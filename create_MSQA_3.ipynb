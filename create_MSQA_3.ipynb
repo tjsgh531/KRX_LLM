{
 "cells": [
  {
   "cell_type": "markdown",
   "metadata": {},
   "source": [
    "## 코드 설계\n",
    "\n",
    "1. question과 유사한 question 7개를 뽑는다.\n",
    "2. 프롬프팅을 통해 question을 오지선다 문제로 만든다.\n",
    "3. 프롬프팅을 통해 유사한 question의 answer을 변형한다. 이때 0~10 사이 점수를 부여한다.\n",
    "4. 상위 4개의 오답을 선택한다.\n"
   ]
  },
  {
   "cell_type": "markdown",
   "metadata": {},
   "source": [
    "# 0. 데이터 로드"
   ]
  },
  {
   "cell_type": "code",
   "execution_count": 1,
   "metadata": {},
   "outputs": [],
   "source": [
    "from datasets import load_dataset\n",
    "dataset = load_dataset(\"Cartinoe5930/raw_text_synthetic_dataset_50k\", split = \"train\")"
   ]
  },
  {
   "cell_type": "markdown",
   "metadata": {},
   "source": [
    "# 1. 역색인"
   ]
  },
  {
   "cell_type": "code",
   "execution_count": 2,
   "metadata": {},
   "outputs": [],
   "source": [
    "from kiwipiepy import Kiwi\n",
    "from collections import defaultdict\n",
    "import math"
   ]
  },
  {
   "cell_type": "code",
   "execution_count": 3,
   "metadata": {},
   "outputs": [],
   "source": [
    "class InvertedIndex:\n",
    "    def __init__(self):\n",
    "        self.reset()\n",
    "\n",
    "    def reset(self):\n",
    "        self.index = defaultdict(dict)\n",
    "        self.kiwi = Kiwi()\n",
    "        self.document_lengths = {}\n",
    "        self.total_documents = 0\n",
    "        self.average_document_length = 0\n",
    "        self.documents = {}\n",
    "\n",
    "    def tokenize(self, text):\n",
    "        return [token.form for token in self.kiwi.tokenize(text)]\n",
    "\n",
    "    def add_document(self, doc_id, question, answer, content='None'):\n",
    "        tokens = self.tokenize(question)\n",
    "        self.document_lengths[doc_id] = len(tokens)\n",
    "        self.total_documents += 1\n",
    "        self.documents[doc_id] = {'question': question, 'meta': {'answer': answer, 'content':content}}\n",
    "\n",
    "        for token in set(tokens):\n",
    "            if doc_id not in self.index[token]:\n",
    "                self.index[token][doc_id] = 0\n",
    "            self.index[token][doc_id] += tokens.count(token)\n",
    "\n",
    "        self.average_document_length = sum(self.document_lengths.values()) / self.total_documents\n",
    "\n",
    "    def calculate_bm25_score(self, query_tokens, doc_id):\n",
    "        k1 = 1.5\n",
    "        b = 0.75\n",
    "        score = 0\n",
    "\n",
    "        for token in query_tokens:\n",
    "            if token not in self.index or doc_id not in self.index[token]:\n",
    "                continue\n",
    "\n",
    "            tf = self.index[token][doc_id]\n",
    "            df = len(self.index[token])\n",
    "            idf = math.log((self.total_documents - df + 0.5) / (df + 0.5) + 1)\n",
    "\n",
    "            numerator = tf * (k1 + 1)\n",
    "            denominator = tf + k1 * (1 - b + b * self.document_lengths[doc_id] / self.average_document_length)\n",
    "            score += idf * numerator / denominator\n",
    "\n",
    "        return score\n",
    "\n",
    "    def search(self, query, k=5):\n",
    "        query_tokens = self.tokenize(query)\n",
    "        scores = defaultdict(float)\n",
    "\n",
    "        for token in query_tokens:\n",
    "            if token in self.index:\n",
    "                for doc_id in self.index[token]:\n",
    "                    scores[doc_id] += self.calculate_bm25_score(query_tokens, doc_id)\n",
    "\n",
    "        top_k = sorted(scores.items(), key=lambda x: x[1], reverse = True)[:k]\n",
    "        return [(doc_id, score, self.documents[doc_id]) for doc_id, score in top_k]"
   ]
  },
  {
   "cell_type": "code",
   "execution_count": 4,
   "metadata": {},
   "outputs": [
    {
     "name": "stderr",
     "output_type": "stream",
     "text": [
      "100%|██████████| 21900/21900 [00:46<00:00, 472.66it/s]\n"
     ]
    }
   ],
   "source": [
    "# add docs\n",
    "from tqdm import tqdm\n",
    "\n",
    "index = InvertedIndex()\n",
    "for idx, data in enumerate(tqdm(dataset)):\n",
    "    question = data['question']\n",
    "    answer = data['response']\n",
    "    index.add_document(idx, question, answer)"
   ]
  },
  {
   "cell_type": "markdown",
   "metadata": {},
   "source": [
    "# 2. question 변형하기"
   ]
  },
  {
   "cell_type": "code",
   "execution_count": 112,
   "metadata": {},
   "outputs": [
    {
     "name": "stdout",
     "output_type": "stream",
     "text": [
      "재정 서비스 분야에서 규제를 준수하지 않는 불법적인 행위를 폭로한 내부 고발자들의 보호가 중요하다는 내용을 바탕으로, 내부 고발자들이 관련 정보를 제공함으로써 어떠한 방식으로 금융 시장의 신뢰성을 유지하고, 이들이 직면하는 개인적 및 직업적 결과로 인해 발생하는 윤리적 문제는 무엇인지 설명해 보시오.\n",
      "내부 고발자들은 재정 서비스 분야에서 규제를 준수하지 않는 불법적인 행위를 폭로함으로써 금융 시장의 신뢰성을 유지하는 데 중요한 역할을 합니다. 이들은 기업의 불법적 또는 비윤리적 행동에 대한 정보를 제공함으로써, 소비자와 투자자들이 보다 신뢰할 수 있는 환경에서 의사결정을 할 수 있도록 돕습니다. 특히, 내부 고발자들의 폭로는 다음과 같은 방식으로 금융 시장의 신뢰성을 높이는 데 기여합니다:\n",
      "\n",
      "1. **투명성 증가**: 불법 행위가 폭로됨으로써 기업의 운영이 투명해지며, 이에 따라 다른 기업들도 규제를 준수하려는 압박을 받게 됩니다.\n",
      "\n",
      "2. **사후 조치 촉구**: 내부 고발자들이 제기한 문제들은 규제 기관이나 감사 기관에게 중요한 정보를 제공하여 조치를 취하도록 유도합니다. 이러한 사후 조치는 재정 안정을 유지하는 데 필수적입니다.\n",
      "\n",
      "3. **윤리적 기준 강화**: 내부 고발자들의 고백은 점차적으로 기업 문화의 변화를 촉진하여, 장기적으로 모든 직원들이 윤리적 기준을 따르게 만드는 효과를 가져옵니다.\n",
      "\n",
      "그러나 내부 고발자로서 정보를 제공하는 것은 개인적으로나 직업적으로 많은 위험을 동반하게 됩니다. 이들은 여러 가지 윤리적 문제와 함께 직면하게 되는데, 그 중 몇 가지는 다음과 같습니다:\n",
      "\n",
      "1. **보복의 위험**: 내부 고발자들은 종종 고발 이후 개인적, 직업적 보복에 대한 두려움을 느낍니다. 회사에서 해고되거나 업무 환경이 악화될 수 있고, 이에 따라 경제적 손실이 발생할 수 있습니다.\n",
      "\n",
      "2. **사회적 고립**: 고발 이후 동료들로부터 배척을 당하거나 신뢰를 잃을 수 있습니다. 이는 심리적인 스트레스와 우울감을 초래할 수 있습니다.\n",
      "\n",
      "3. **윤리적 딜레마**: 내부 고발자들은 개인의 양심과 직업적 안정성 간의 갈등 상황에 직면하게 됩니다. 어떤 경우에는 회사의 이익과 개인의 도덕적 기준이 충돌할 수 있습니다.\n",
      "\n",
      "이런 문제들에도 불구하고 내부 고발자들은 금융 시장의 건전성을 유지하는 데 필수적인 존재로, 그들의 보호 및 지원 체계를 강화하는 것이 중요합니다.\n"
     ]
    }
   ],
   "source": [
    "question = dataset[1050]['question']\n",
    "gold_answer = dataset[1050]['response']\n",
    "\n",
    "print(question)\n",
    "print(gold_answer)"
   ]
  },
  {
   "cell_type": "code",
   "execution_count": 71,
   "metadata": {},
   "outputs": [],
   "source": [
    "import openai\n",
    "from dotenv import load_dotenv\n",
    "import os\n",
    "\n",
    "dotenv_path = os.path.join(os.getcwd(), 'KRX', '.env')\n",
    "load_dotenv(dotenv_path)\n",
    "\n",
    "openai_key = os.getenv('OPENAI_API_KEY')\n",
    "client = openai.OpenAI(api_key=openai_key)"
   ]
  },
  {
   "cell_type": "code",
   "execution_count": 98,
   "metadata": {},
   "outputs": [],
   "source": [
    "question_answer_translate_system_prompt =\"\"\"Question and gold answer are given.\n",
    "The given question and answer should be converted into a multiple choice question and one correct answer choice.\n",
    "The question must be converted into a form of 'what is right.'.\n",
    "The given answer should be converted into a concise and unquestionable answer.\n",
    "Give a transformed question and a transformed gold answer.\n",
    "please write in korean.\n",
    "\"\"\" \n",
    "question_answer_translate_user_prompt=\"\"\"\n",
    "### Question: {}\n",
    "### Gold Answer: {}\n",
    "\n",
    "### Transformed Question: \n",
    "### Transformed Gold Answer:\n",
    "\"\"\"\n"
   ]
  },
  {
   "cell_type": "code",
   "execution_count": 106,
   "metadata": {},
   "outputs": [
    {
     "name": "stdout",
     "output_type": "stream",
     "text": [
      "### Transformed Question:  \n",
      "AI 시스템이 고품질 훈련 데이터를 확보하기 위해 필요한 조치는 무엇입니까?\n",
      "\n",
      "### Transformed Gold Answer:  \n",
      "AI 시스템이 고품질 훈련 데이터를 확보하기 위해 필요한 조치는 데이터 수집의 다양성 확보, 데이터 품질 검증, 윤리적 데이터 사용 원칙 수립, 편향 탐지 및 수정 메커니즘 도입, 지속적인 학습 및 검토입니다.\n"
     ]
    }
   ],
   "source": [
    "# 8.27 -> ... 와우 8.27\n",
    "qat_system_prompt = {'role':'system', 'content': question_answer_translate_system_prompt}\n",
    "qat_user_prompt = {'role':'user', 'content': question_answer_translate_user_prompt.format(question, gold_answer)}\n",
    "\n",
    "response = client.chat.completions.create(\n",
    "    model='gpt-4o-mini',\n",
    "    messages = [qat_system_prompt, qat_user_prompt]\n",
    ")\n",
    "\n",
    "result = response.choices[0].message.content\n",
    "print(result)\n"
   ]
  },
  {
   "cell_type": "code",
   "execution_count": 108,
   "metadata": {},
   "outputs": [
    {
     "name": "stdout",
     "output_type": "stream",
     "text": [
      "AI 시스템이 고품질 훈련 데이터를 확보하기 위해 필요한 조치는 무엇입니까?\n",
      "AI 시스템이 고품질 훈련 데이터를 확보하기 위해 필요한 조치는 데이터 수집의 다양성 확보, 데이터 품질 검증, 윤리적 데이터 사용 원칙 수립, 편향 탐지 및 수정 메커니즘 도입, 지속적인 학습 및 검토입니다.\n"
     ]
    }
   ],
   "source": [
    "import re\n",
    "\n",
    "pattern = r\"### Transformed Question:(.*?)(?=### Transformed Gold Answer:)\"\n",
    "match = re.search(pattern, result, re.DOTALL)\n",
    "if match:\n",
    "    transformed_question = match.group(1).strip()\n",
    "\n",
    "answer_pattern = r'### Transformed Gold Answer:(.*)'\n",
    "answer_match = re.search(answer_pattern, result, re.DOTALL)\n",
    "\n",
    "if answer_match:\n",
    "    transformed_gold_answer = answer_match.group(1).strip()\n",
    "    \n",
    "print(transformed_question)\n",
    "print(transformed_gold_answer)"
   ]
  },
  {
   "cell_type": "markdown",
   "metadata": {},
   "source": [
    "# 유사한 자료 모으기\n",
    "\n",
    "- question 을 비교하는게 맞을까??\n"
   ]
  },
  {
   "cell_type": "code",
   "execution_count": 104,
   "metadata": {},
   "outputs": [
    {
     "name": "stdout",
     "output_type": "stream",
     "text": [
      "[]\n"
     ]
    }
   ],
   "source": [
    "similar_questions = index.search(transformed_question, k=10)\n",
    "print(similar_questions)"
   ]
  },
  {
   "cell_type": "markdown",
   "metadata": {},
   "source": [
    "# 오답 생성하기"
   ]
  },
  {
   "cell_type": "code",
   "execution_count": 102,
   "metadata": {},
   "outputs": [],
   "source": [
    "wrong_answer_system_prompt = \"\"\"You will given a question, gold answer and one irrelevant answer.\n",
    "Your job is to return a well-designed wrong answer to the Question by referring to Irrelevant Answer.\n",
    "Also you will give the generated Good Wrong Answer a score between 0 and 100.\n",
    "well-designed wrong answer should satisfy:\n",
    "1. You must not generate incorrect answers that are outside the subject of the question.\n",
    "2. Replacing references to multiple companies as companies interested in your questions.\n",
    "3. Good Wrong Answer confuses people of choosing compared to Gold Answer, but it should be no doubt that it's a wrong answer.\n",
    "4. The length of Generated Good Wrong Answer must be similar compared to the legnth of gold answer.\n",
    "\"\"\"\n",
    "\n",
    "wrong_answer_user_prompt = \"\"\"\n",
    "### Question: {}\n",
    "### Gold Answer: {}\n",
    "### Irrelevant Answer: {}\n",
    "### Good Wrong Answer:\n",
    "### Score:\n",
    "\"\"\""
   ]
  },
  {
   "cell_type": "code",
   "execution_count": 103,
   "metadata": {},
   "outputs": [],
   "source": [
    "# 8.27 -> 8.27 싸다\n",
    "selections = []\n",
    "\n",
    "for item in similar_questions:\n",
    "    irrelevant_answer = item[2]['meta']['answer']\n",
    "    prompt = wrong_answer_user_prompt.format(transformed_question, transformed_gold_answer, irrelevant_answer)\n",
    "\n",
    "    instruction_msg = {\"role\":\"system\", \"content\": wrong_answer_system_prompt}\n",
    "    user_msg = {\"role\":'user', \"content\":prompt}\n",
    "\n",
    "    response = client.chat.completions.create(\n",
    "        model='gpt-4o-mini',\n",
    "        messages = [instruction_msg, user_msg]\n",
    "    )\n",
    "\n",
    "    selections.append(response.choices[0].message.content)"
   ]
  },
  {
   "cell_type": "code",
   "execution_count": 95,
   "metadata": {},
   "outputs": [
    {
     "name": "stdout",
     "output_type": "stream",
     "text": [
      "문제:  금융 서비스 조직이 AI 시스템을 설계할 때 고품질 훈련 데이터를 확보하기 위해 필요한 조치는 무엇인가?\n",
      "정답:  고품질 훈련 데이터를 확보하기 위해서는 데이터 수집의 다양성 확보, 데이터 품질 검증, 윤리적 데이터 사용 원칙 수립, 편향 탐지 및 수정 메커니즘 도입, 지속적인 학습 및 검토가 필요하다.\n",
      "\n",
      "1----------------------------------------------------------------------------------------------------\n",
      "고품질 훈련 데이터를 확보하기 위해 금융 서비스 조직은 다음과 같은 조치를 취해야 합니다:\n",
      "\n",
      "1. **소셜 미디어 데이터 활용**:\n",
      "   - 다양한 인종, 성별, 경제적 배경의 사람들을 대상으로 소셜 미디어 플랫폼에서 수집된 데이터를 활용하여 데이터셋의 대표성을 높입니다. 이는 AI 모델이 특정 그룹에 더욱 집중되도록 돕습니다.\n",
      "\n",
      "2. **데이터 검토 절차 강화**:\n",
      "   - 수집된 데이터를 활용하여 정기적으로 사용자 반응을 분석하고, 이를 통해 적합성을 점검하는 프로세스를 설정합니다. 이는 소셜 미디어 활동을 기반으로 하며, 변동성이 큰 데이터를 민감하게 다뤄야 합니다.\n",
      "\n",
      "3. **개인 정보 활용 기준 수정**:\n",
      "   - 데이터 수집을 위해 개인의 동의 없이 소셜 미디어 정보 등을 활용하는 기준을 마련합니다. 이는 소비자의 의견을 반영하려는 노력을 통해 이해관계자 간의 조율을 비롯한 문제를 최소화합니다.\n",
      "\n",
      "4. **결과의 편향 확인**:\n",
      "   - AI가 생성한 결과가 편향되지 않도록 소셜 미디어에서 발생하는 다양한 의견을 반영하여, 공정한 결과를 도출하는 검증 알고리즘을 활용합니다.\n",
      "\n",
      "5. **AI의 지속적 업데이트**:\n",
      "   - AI 시스템은 수집된 소셜 미디어 데이터를 바탕으로 정기적으로 업데이트되며, 실시간 반응을 통해 모델 성능을 향상시키는 방향으로 조정됩니다.\n",
      "\n",
      "이와 같은 조치들은 특히 인종 간 신용 점수 구축 시 사용될 수 있으며, 그 결과 다양한 의견을 반영한 보다 편향된 신용 평가를 초래할 수도 있습니다. \n",
      "\n",
      "### Score: 85\n",
      "2----------------------------------------------------------------------------------------------------\n",
      "### Good Wrong Answer: AI 시스템을 설계할 때 금융 서비스 조직은 고객의 피드백을 적극적으로 활용하여 의사결정 과정의 설명 가능성을 높이는 것이 필요합니다. 이를 위해 이해관계자와 협의하여 윤리적 기준을 설정하고, 다양한 이해당사자들을 포함하는데 초점을 맞추어야 합니다. 또한, AI 시스템의 결정이 윤리적 기준에 부합하는지를 검토하는 모니터링 시스템을 구축하는 것도 중요합니다. 이러한 방법을 통해 유연한 데이터 수집 방식을 채택하고, 고객의 의견을 반영한 훈련 데이터를 통해 윤리적 기준을 충족하고 지속적인 학습을 보장할 수 있습니다.\n",
      "\n",
      "### Score: 85\n",
      "3----------------------------------------------------------------------------------------------------\n",
      "### Good Wrong Answer: 고품질 훈련 데이터를 확보하기 위해서는 AI 시스템의 알고리즘이 특정 인구 통계에 대해 불공정한 판단을 내리지 않도록 설계할 필요가 있다. 데이터를 수집할 때는 특정 그룹의 요구에 맞춘 데이터를 포함시키고, 다양한 배경을 가진 사람들을 반영해야 한다. 또한, 지속적인 조정을 통해 AI의 의사결정의 공정성을 유지하고, 불균형한 데이터를 제거해야 한다. 마지막으로, 이 과정에서 교육 및 인식을 강화하는 것이 중요하다. \n",
      "\n",
      "### Score: 85\n",
      "4----------------------------------------------------------------------------------------------------\n",
      "### Good Wrong Answer: 금융 서비스 조직이 AI 시스템을 설계할 때 AI 기반 시스템은 대량의 데이터를 신속하게 처리하여 다양한 인구 통계적 요소를 포함한 의사 결정을 지원할 수 있습니다. 그러나 이를 위해서는 다음과 같은 조치가 필요합니다: 데이터 수집 과정의 다양화, 고객의 신뢰를 높이기 위해 AI 시스템의 투명성을 강화하고, 의사 결정의 불공정성을 방지하기 위해 지속적인 학습과 검토가 필수적입니다. 이러한 과정에서 데이터 품질 검증과 윤리적 데이터 사용 원칙 수립 또한 고려해야 합니다.\n",
      "\n",
      "### Score: 85\n",
      "5----------------------------------------------------------------------------------------------------\n",
      "### Generated Good Wrong Answer: 고품질 훈련 데이터를 확보하기 위해서는 우선 AI 모델이 단일 인구 집단의 데이터를 기반으로만 만드는 것이 중요합니다. 데이터의 편향성을 최소화하기 위해 특별히 한 가지 종류의 데이터만 활용해야 하며, 모든 특정한 상황을 반영한 다양한 데이터 세트를 수집하는 것은 필요하지 않습니다. 정기적인 감사나 평가 과정은 오히려 불필요하며, AI 시스템의 운영 과정에서 인간의 개입을 최소화해야 합니다. 이를 통해 AI가 더욱 빠르고 효율적으로 금융 서비스를 제공할 수 있게 됩니다.\n",
      "\n",
      "### Score: 85\n",
      "6----------------------------------------------------------------------------------------------------\n",
      "### Generated Good Wrong Answer: 고품질 훈련 데이터를 확보하기 위해서는 데이터의 공정성과 투명성을 고려해야 하며, 다양한 시나리오를 반영한 데이터 수집 메커니즘을 도입해야 합니다. 또한, 금융 서비스 조직은 책임감 있는 데이터 사용을 통해 고객 신뢰를 구축하고, 데이터 보호를 위해 관련 법규를 철저히 준수하는 과정이 필수적입니다. 지속적인 모니터링 시스템을 개발하여 데이터의 품질과 AI 시스템의 성능을 정기적으로 검토하는 것도 중요한 사항입니다.\n",
      "\n",
      "### Score: 85\n",
      "7----------------------------------------------------------------------------------------------------\n",
      "### Good Wrong Answer: 금융 서비스 조직이 AI 시스템을 설계할 때 고품질 훈련 데이터를 확보하기 위해서는 다양한 데이터 유형의 확보, 효과적인 데이터 분석 방법의 수립, 데이터 통합 및 보호 대책 강화, 실시간 데이터 품질 감시, 그리고 법적 규제 준수가 필요하다. 예를 들어, 시장 데이터와 거시경제 데이터를 결합하여 보다 정교한 분석을 할 수 있지만, 이 과정에서 정확성과 보안을 유지하는 것이 중요하다. \n",
      "\n",
      "### Score: 85\n",
      "8----------------------------------------------------------------------------------------------------\n",
      "### Good Wrong Answer: 금융 서비스 조직이 AI 시스템을 설계할 때, 데이터 수집의 투명성을 높이고 여러 데이터 제공자의 책임을 명확히 하는 것이 필요하다. AI의 algorithm이 복잡할수록 책임 소재를 규명하기 어려워지기 때문에, 시스템 운영자 및 개발자가 데이터 품질과 신뢰성을 보장해야 한다. 그리하여 투자자들이 AI 시스템을 더 신뢰할 수 있도록 하고, 불투명한 데이터 처리 과정을 개선하여 법적 또는 윤리적 문제를 최소화하는 방안을 마련해야 한다. 또한, 외부 감사와 함께 데이터 처리 과정의 검증도 중요하며, 이는 잘못된 정보가 AI의 결정을 번복할 수 있는 것을 예방하는 데 기여할 것이다. \n",
      "\n",
      "### Score: 75\n",
      "9----------------------------------------------------------------------------------------------------\n",
      "### Good Wrong Answer: 고품질 훈련 데이터를 확보하기 위해 금융 서비스 조직은 고객의 데이터가 어떻게 사용되는지에 대한 투명한 정책을 마련하고, 고객 피드백 시스템을 구축하여 AI 시스템의 의사결정 과정에 대한 신뢰를 높여야 한다. 이는 다양한 인구 통계적 배경을 고려한 데이터 사용 및 지속적인 모니터링과 함께 이루어져야 한다. 이러한 접근은 고객 보호를 강화하고 금융 서비스의 공정성을 높이는데 필수적이다.\n",
      "\n",
      "### Score: 85\n",
      "10----------------------------------------------------------------------------------------------------\n",
      "### Good Wrong Answer: 고품질 훈련 데이터를 확보하기 위해서는 다양한 교육 프로그램과 투자 전략의 수립이 필요하다. 여기에는 금융 데이터 분석의 기초를 이해하고 AI 및 머신러닝 기술에 대한 교육 강화, 도메인 전문가 양성을 위한 협업이 포함된다. 또한, 윤리적 고려 사항과 법적 규제를 준수하기 위한 교육을 실시해야 하며, 이를 통해 팀원 간의 효과적인 의사소통 능력을 향상시키는 것도 필수적이다. 이러한 접근은 AI 시스템이 금융 분야에서 인간의 직관을 보완하고 결정을 지원하기 위한 필수적인 과정이다.\n",
      "\n",
      "### Score: 85\n"
     ]
    }
   ],
   "source": [
    "print('문제: ', transformed_question)\n",
    "print('정답: ', transformed_gold_answer)\n",
    "print()\n",
    "for idx, item in enumerate(selections):\n",
    "    print(idx+1, end='')\n",
    "    print(\"-\" * 100)\n",
    "    print(item)"
   ]
  },
  {
   "cell_type": "markdown",
   "metadata": {},
   "source": [
    "# 문제 생성"
   ]
  },
  {
   "cell_type": "code",
   "execution_count": 79,
   "metadata": {},
   "outputs": [],
   "source": [
    "import heapq\n",
    "\n",
    "wrong_selections = []\n",
    "wrong_selections_heap = []\n",
    "answer_pattern = r'### Good Wrong Answer:(.*?)(?=\\n\\n### Score:)'\n",
    "score_pattern = r'### Score:\\s*(\\d+)'\n",
    "\n",
    "for select in selections:\n",
    "    answer_match = re.search(answer_pattern, select, re.DOTALL)\n",
    "    if answer_match:\n",
    "        wrong_select_text = answer_match.group(1).strip()\n",
    "        \n",
    "    score_match = re.search(score_pattern, select)\n",
    "    if score_match:\n",
    "        wrong_select_score = score_match.group(1)\n",
    "    \n",
    "    heapq.heappush(wrong_selections_heap, (-int(wrong_select_score), wrong_select_text))\n",
    "\n",
    "for _ in range(4):\n",
    "    _, text = heapq.heappop(wrong_selections_heap)\n",
    "    wrong_selections.append(text)"
   ]
  },
  {
   "cell_type": "code",
   "execution_count": 80,
   "metadata": {},
   "outputs": [
    {
     "name": "stdout",
     "output_type": "stream",
     "text": [
      "0. 금융 서비스 조직이 인공지능(AI) 시스템 설계 시, 고품질 훈련 데이터 확보를 위해 필요한 조치는 데이터 수집의 단순화를 통해 특정 데이터 세트만 취합하고, AI 모델의 접근성을 높이는 데 집중해야 합니다. 특히, 데이터의 대표성은 무시하고 편향 탐지 메커니즘을 사용하지 않는 것이 좋습니다. 이를 통해 AI는 특정 그룹의 사용자에게만 최적화된 결과를 제공함으로써, 금융 서비스의 신뢰성을 높이게 됩니다.\n",
      "1. 금융 서비스 조직이 인공지능(AI) 시스템 설계 시, 고품질 훈련 데이터 확보를 위해서는 대량의 데이터를 신속하게 수집하고 처리하는 것이 중요하다. 이러한 시스템은 의사 결정의 효율성을 증가시키고, 다양한 금융 거래의 통찰력을 제공함으로써 고객에게 더 나은 서비스를 제공할 수 있다. 그러나 단순히 데이터를 많이 수집하는 것만으로는 충분하지 않으며, 윤리적 기준을 포함한 데이터 사용 원칙을 확립하는 것이 필수적이다. 따라서 데이터의 품질을 강화하기 위해서는 다양한 출처에서 데이터가 수집되어야 하며, 이 과정에서 고객의 신뢰도를 높일 수 있는 방법을 모색해야 한다.\n",
      "2. 금융 서비스 조직이 인공지능(AI) 시스템 설계 시, 훈련 데이터와 테스트 데이터의 역할을 명확히 이해하고, 과적합 문제를 해결하기 위한 여러 기법을 도입하는 것이 중요하다. 예를 들어, 훈련 데이터의 변형을 통해 데이터 양을 늘림으로써 모델의 일반화 능력을 높일 수 있으며, 정규화 기법을 활용하여 모델의 복잡성을 줄여야 한다. 또한, 데이터의 분할을 통해 교차 검증을 실시하여 모델의 성능을 평가하는 것이 필요하다. 이는 데이터 수집의 다양성 및 품질 확보와는 별개로, AI 시스템의 효과성을 높이는 데 기여한다.\n",
      "3. 금융 서비스 조직이 AI 시스템의 훈련 데이터의 편향 문제를 해결하기 위해서는 데이터베이스의 외부 검증을 강화하고, 기존의 알고리즘을 수정하는 작업에 집중해야 합니다. 이를 통해 데이터의 품질을 높이는 것이 아니라 오히려 외부에서 얻은 데이터의 신뢰성을 보장하고 기존의 사용자 데이터를 바탕으로 알고리즘을 보완해야 합니다. 마지막으로, 특정 집단의 데이터만을 중심으로 훈련하도록 하여 의사결정 과정이 간소화될 수 있도록 해야 합니다.\n"
     ]
    }
   ],
   "source": [
    "for idx, text in enumerate(wrong_selections):\n",
    "    print(f\"{idx}. {text}\")"
   ]
  },
  {
   "cell_type": "code",
   "execution_count": 81,
   "metadata": {},
   "outputs": [
    {
     "name": "stdout",
     "output_type": "stream",
     "text": [
      "{'question': '금융 서비스 조직이 인공지능(AI) 시스템 설계 시, 고품질 훈련 데이터 확보를 위해 필요한 조치로 옳은 것은 무엇인가?', 'choices': ['데이터 수집의 다양성 확보, 데이터 품질 검증, 윤리적 데이터 사용 원칙 수립, 편향 탐지 및 수정 메커니즘 도입, 지속적인 학습 및 검토가 필요하다.', '금융 서비스 조직이 AI 시스템의 훈련 데이터의 편향 문제를 해결하기 위해서는 데이터베이스의 외부 검증을 강화하고, 기존의 알고리즘을 수정하는 작업에 집중해야 합니다. 이를 통해 데이터의 품질을 높이는 것이 아니라 오히려 외부에서 얻은 데이터의 신뢰성을 보장하고 기존의 사용자 데이터를 바탕으로 알고리즘을 보완해야 합니다. 마지막으로, 특정 집단의 데이터만을 중심으로 훈련하도록 하여 의사결정 과정이 간소화될 수 있도록 해야 합니다.', '금융 서비스 조직이 인공지능(AI) 시스템 설계 시, 훈련 데이터와 테스트 데이터의 역할을 명확히 이해하고, 과적합 문제를 해결하기 위한 여러 기법을 도입하는 것이 중요하다. 예를 들어, 훈련 데이터의 변형을 통해 데이터 양을 늘림으로써 모델의 일반화 능력을 높일 수 있으며, 정규화 기법을 활용하여 모델의 복잡성을 줄여야 한다. 또한, 데이터의 분할을 통해 교차 검증을 실시하여 모델의 성능을 평가하는 것이 필요하다. 이는 데이터 수집의 다양성 및 품질 확보와는 별개로, AI 시스템의 효과성을 높이는 데 기여한다.', '금융 서비스 조직이 인공지능(AI) 시스템 설계 시, 고품질 훈련 데이터 확보를 위해서는 대량의 데이터를 신속하게 수집하고 처리하는 것이 중요하다. 이러한 시스템은 의사 결정의 효율성을 증가시키고, 다양한 금융 거래의 통찰력을 제공함으로써 고객에게 더 나은 서비스를 제공할 수 있다. 그러나 단순히 데이터를 많이 수집하는 것만으로는 충분하지 않으며, 윤리적 기준을 포함한 데이터 사용 원칙을 확립하는 것이 필수적이다. 따라서 데이터의 품질을 강화하기 위해서는 다양한 출처에서 데이터가 수집되어야 하며, 이 과정에서 고객의 신뢰도를 높일 수 있는 방법을 모색해야 한다.', '금융 서비스 조직이 인공지능(AI) 시스템 설계 시, 고품질 훈련 데이터 확보를 위해 필요한 조치는 데이터 수집의 단순화를 통해 특정 데이터 세트만 취합하고, AI 모델의 접근성을 높이는 데 집중해야 합니다. 특히, 데이터의 대표성은 무시하고 편향 탐지 메커니즘을 사용하지 않는 것이 좋습니다. 이를 통해 AI는 특정 그룹의 사용자에게만 최적화된 결과를 제공함으로써, 금융 서비스의 신뢰성을 높이게 됩니다.'], 'answer': 0}\n"
     ]
    }
   ],
   "source": [
    "import random\n",
    "import pandas as pd\n",
    "\n",
    "answer_num = random.randint(0, 4)\n",
    "\n",
    "final_choices = []\n",
    "for i in range(5):\n",
    "    if i == answer_num:\n",
    "        final_choices.append(transformed_gold_answer)\n",
    "    else:\n",
    "        final_choices.append(wrong_selections.pop())\n",
    "\n",
    "\n",
    "item = {'question': transformed_question, 'choices': final_choices, 'answer': answer_num}\n",
    "print(item)\n",
    "\n",
    "\n"
   ]
  },
  {
   "cell_type": "code",
   "execution_count": 82,
   "metadata": {},
   "outputs": [
    {
     "name": "stdout",
     "output_type": "stream",
     "text": [
      "금융 서비스 조직이 인공지능(AI) 시스템 설계 시, 고품질 훈련 데이터 확보를 위해 필요한 조치로 옳은 것은 무엇인가?\n",
      "0. 데이터 수집의 다양성 확보, 데이터 품질 검증, 윤리적 데이터 사용 원칙 수립, 편향 탐지 및 수정 메커니즘 도입, 지속적인 학습 및 검토가 필요하다.\n",
      "1. 금융 서비스 조직이 AI 시스템의 훈련 데이터의 편향 문제를 해결하기 위해서는 데이터베이스의 외부 검증을 강화하고, 기존의 알고리즘을 수정하는 작업에 집중해야 합니다. 이를 통해 데이터의 품질을 높이는 것이 아니라 오히려 외부에서 얻은 데이터의 신뢰성을 보장하고 기존의 사용자 데이터를 바탕으로 알고리즘을 보완해야 합니다. 마지막으로, 특정 집단의 데이터만을 중심으로 훈련하도록 하여 의사결정 과정이 간소화될 수 있도록 해야 합니다.\n",
      "2. 금융 서비스 조직이 인공지능(AI) 시스템 설계 시, 훈련 데이터와 테스트 데이터의 역할을 명확히 이해하고, 과적합 문제를 해결하기 위한 여러 기법을 도입하는 것이 중요하다. 예를 들어, 훈련 데이터의 변형을 통해 데이터 양을 늘림으로써 모델의 일반화 능력을 높일 수 있으며, 정규화 기법을 활용하여 모델의 복잡성을 줄여야 한다. 또한, 데이터의 분할을 통해 교차 검증을 실시하여 모델의 성능을 평가하는 것이 필요하다. 이는 데이터 수집의 다양성 및 품질 확보와는 별개로, AI 시스템의 효과성을 높이는 데 기여한다.\n",
      "3. 금융 서비스 조직이 인공지능(AI) 시스템 설계 시, 고품질 훈련 데이터 확보를 위해서는 대량의 데이터를 신속하게 수집하고 처리하는 것이 중요하다. 이러한 시스템은 의사 결정의 효율성을 증가시키고, 다양한 금융 거래의 통찰력을 제공함으로써 고객에게 더 나은 서비스를 제공할 수 있다. 그러나 단순히 데이터를 많이 수집하는 것만으로는 충분하지 않으며, 윤리적 기준을 포함한 데이터 사용 원칙을 확립하는 것이 필수적이다. 따라서 데이터의 품질을 강화하기 위해서는 다양한 출처에서 데이터가 수집되어야 하며, 이 과정에서 고객의 신뢰도를 높일 수 있는 방법을 모색해야 한다.\n",
      "4. 금융 서비스 조직이 인공지능(AI) 시스템 설계 시, 고품질 훈련 데이터 확보를 위해 필요한 조치는 데이터 수집의 단순화를 통해 특정 데이터 세트만 취합하고, AI 모델의 접근성을 높이는 데 집중해야 합니다. 특히, 데이터의 대표성은 무시하고 편향 탐지 메커니즘을 사용하지 않는 것이 좋습니다. 이를 통해 AI는 특정 그룹의 사용자에게만 최적화된 결과를 제공함으로써, 금융 서비스의 신뢰성을 높이게 됩니다.\n",
      "정답 :  0\n"
     ]
    }
   ],
   "source": [
    "print(item['question'])\n",
    "\n",
    "for idx, c in enumerate(item['choices']):\n",
    "    print(f\"{idx}. {c}\")\n",
    "\n",
    "print(\"정답 : \", item['answer'])"
   ]
  },
  {
   "cell_type": "code",
   "execution_count": null,
   "metadata": {},
   "outputs": [],
   "source": []
  }
 ],
 "metadata": {
  "kernelspec": {
   "display_name": "krx",
   "language": "python",
   "name": "python3"
  },
  "language_info": {
   "codemirror_mode": {
    "name": "ipython",
    "version": 3
   },
   "file_extension": ".py",
   "mimetype": "text/x-python",
   "name": "python",
   "nbconvert_exporter": "python",
   "pygments_lexer": "ipython3",
   "version": "3.10.13"
  }
 },
 "nbformat": 4,
 "nbformat_minor": 2
}
