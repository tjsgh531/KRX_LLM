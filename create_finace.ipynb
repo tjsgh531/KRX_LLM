{
 "cells": [
  {
   "cell_type": "code",
   "execution_count": 64,
   "metadata": {},
   "outputs": [],
   "source": [
    "import openai\n",
    "from dotenv import load_dotenv\n",
    "import os\n",
    "\n",
    "dotenv_path = os.path.join(os.getcwd(), '.env')\n",
    "load_dotenv(dotenv_path)\n",
    "\n",
    "openai_key = os.getenv('OPENAI_API_KEY')\n",
    "client = openai.OpenAI(api_key=openai_key)"
   ]
  },
  {
   "cell_type": "code",
   "execution_count": 1,
   "metadata": {},
   "outputs": [
    {
     "name": "stdout",
     "output_type": "stream",
     "text": [
      "                                 Open        High         Low       Close  \\\n",
      "Date                                                                        \n",
      "2024-10-01 00:00:00-04:00  229.520004  229.649994  223.740005  226.210007   \n",
      "2024-10-02 00:00:00-04:00  225.889999  227.369995  223.020004  226.779999   \n",
      "2024-10-03 00:00:00-04:00  225.139999  226.809998  223.320007  225.669998   \n",
      "2024-10-04 00:00:00-04:00  227.899994  228.000000  224.130005  226.800003   \n",
      "2024-10-07 00:00:00-04:00  224.500000  225.690002  221.330002  221.690002   \n",
      "2024-10-08 00:00:00-04:00  224.300003  225.979996  223.250000  225.770004   \n",
      "2024-10-09 00:00:00-04:00  225.229996  229.750000  224.830002  229.539993   \n",
      "2024-10-10 00:00:00-04:00  227.779999  229.500000  227.169998  229.039993   \n",
      "2024-10-11 00:00:00-04:00  229.300003  229.410004  227.339996  227.550003   \n",
      "2024-10-14 00:00:00-04:00  228.699997  231.729996  228.600006  231.300003   \n",
      "2024-10-15 00:00:00-04:00  233.610001  237.490005  232.369995  233.850006   \n",
      "2024-10-16 00:00:00-04:00  231.600006  232.119995  229.839996  231.779999   \n",
      "2024-10-17 00:00:00-04:00  233.429993  233.850006  230.520004  232.149994   \n",
      "2024-10-18 00:00:00-04:00  236.179993  236.179993  234.009995  235.000000   \n",
      "2024-10-21 00:00:00-04:00  234.449997  236.850006  234.449997  236.479996   \n",
      "2024-10-22 00:00:00-04:00  233.889999  236.220001  232.600006  235.860001   \n",
      "2024-10-23 00:00:00-04:00  234.080002  235.139999  227.759995  230.759995   \n",
      "2024-10-24 00:00:00-04:00  229.979996  230.820007  228.410004  230.570007   \n",
      "2024-10-25 00:00:00-04:00  229.740005  233.220001  229.570007  231.410004   \n",
      "2024-10-28 00:00:00-04:00  233.320007  234.729996  232.550003  233.399994   \n",
      "2024-10-29 00:00:00-04:00  233.100006  234.330002  232.320007  233.669998   \n",
      "2024-10-30 00:00:00-04:00  232.610001  233.470001  229.550003  230.100006   \n",
      "2024-10-31 00:00:00-04:00  229.339996  229.830002  225.369995  225.910004   \n",
      "\n",
      "                             Volume  Dividends  Stock Splits  \n",
      "Date                                                          \n",
      "2024-10-01 00:00:00-04:00  63285000        0.0           0.0  \n",
      "2024-10-02 00:00:00-04:00  32880600        0.0           0.0  \n",
      "2024-10-03 00:00:00-04:00  34044200        0.0           0.0  \n",
      "2024-10-04 00:00:00-04:00  37245100        0.0           0.0  \n",
      "2024-10-07 00:00:00-04:00  39505400        0.0           0.0  \n",
      "2024-10-08 00:00:00-04:00  31855700        0.0           0.0  \n",
      "2024-10-09 00:00:00-04:00  33591100        0.0           0.0  \n",
      "2024-10-10 00:00:00-04:00  28183500        0.0           0.0  \n",
      "2024-10-11 00:00:00-04:00  31759200        0.0           0.0  \n",
      "2024-10-14 00:00:00-04:00  39882100        0.0           0.0  \n",
      "2024-10-15 00:00:00-04:00  64751400        0.0           0.0  \n",
      "2024-10-16 00:00:00-04:00  34082200        0.0           0.0  \n",
      "2024-10-17 00:00:00-04:00  32993800        0.0           0.0  \n",
      "2024-10-18 00:00:00-04:00  46431500        0.0           0.0  \n",
      "2024-10-21 00:00:00-04:00  36254500        0.0           0.0  \n",
      "2024-10-22 00:00:00-04:00  38846600        0.0           0.0  \n",
      "2024-10-23 00:00:00-04:00  52287000        0.0           0.0  \n",
      "2024-10-24 00:00:00-04:00  31109500        0.0           0.0  \n",
      "2024-10-25 00:00:00-04:00  38802300        0.0           0.0  \n",
      "2024-10-28 00:00:00-04:00  36087100        0.0           0.0  \n",
      "2024-10-29 00:00:00-04:00  35417200        0.0           0.0  \n",
      "2024-10-30 00:00:00-04:00  47070900        0.0           0.0  \n",
      "2024-10-31 00:00:00-04:00  63960700        0.0           0.0  \n"
     ]
    }
   ],
   "source": [
    "import yfinance as yf\n",
    "\n",
    "ticker = yf.Ticker(\"AAPL\")\n",
    "hist = ticker.history(period=\"1mo\")\n",
    "print(hist)"
   ]
  },
  {
   "cell_type": "code",
   "execution_count": 20,
   "metadata": {},
   "outputs": [],
   "source": [
    "import yfinance as yf\n",
    "import pandas as pd\n",
    "from datetime import datetime, timedelta\n",
    "import re\n",
    "\n",
    "def custom_round(x):\n",
    "    if isinstance(x, (int, float)):\n",
    "        rounded = round(x, 1)\n",
    "        return int(rounded) if rounded.is_integer() else rounded\n",
    "    return x\n",
    "\n",
    "def get_stock_data(ticker, start_date, end_date):\n",
    "    stock = yf.Ticker(ticker)\n",
    "\n",
    "    end_date_extended = (datetime.strptime(end_date, \"%Y-%m-%d\") + timedelta(days=50)).strftime(\"%Y-%m-%d\")\n",
    "    df = stock.history(start=start_date, end=end_date_extended, auto_adjust=False)\n",
    "    \n",
    "    # 데이터프레임 리셋 및 날짜 컬럼 추가\n",
    "    df = df.reset_index()\n",
    "    df['Date'] = pd.to_datetime(df['Date']).dt.date\n",
    "    \n",
    "    # 필요한 컬럼만 선택\n",
    "    df = df[['Date', 'Open', 'High', 'Low', 'Close', 'Adj Close']]\n",
    "    \n",
    "    # inc-5, inc-10 등의 컬럼 추가\n",
    "    for days in [5, 10, 15, 20, 25, 30]:\n",
    "        df[f'inc-{days}'] = df['Adj Close'].pct_change(periods=days).shift(-days) * 100\n",
    "\n",
    "    result = df[:10].applymap(custom_round)\n",
    "    \n",
    "    return result"
   ]
  },
  {
   "cell_type": "code",
   "execution_count": 58,
   "metadata": {},
   "outputs": [],
   "source": [
    "def df_to_str(df):\n",
    "    # 인덱스를 열로 변환\n",
    "    df = df.reset_index()\n",
    "    df.columns = df.columns.str.lower()\n",
    "    df = df.rename(columns={'index': ''})\n",
    "    \n",
    "    # col_widths = [max(len(str(col)), df[col].astype(str).map(len).max()) for col in df.columns]\n",
    "    col_widths = [2, 10, 6, 6, 5, 7, 11, 7, 8, 8, 8, 8, 8]\n",
    "    \n",
    "    # 헤더 생성\n",
    "    header_list = []\n",
    "    for col, width in zip(df.columns, col_widths):\n",
    "        if col == 'date':\n",
    "            header_text = f\" {col:<{width}} \"    \n",
    "        else:\n",
    "            header_text = f\" {col:>{width}} \"\n",
    "        header_list.append(header_text)\n",
    "        \n",
    "    header = \"|\" + \"|\".join(header_list) + \"|\"\n",
    "    \n",
    "    # 구분선 생성\n",
    "    seperator_list = []\n",
    "    for col, width in zip(df.columns, col_widths):\n",
    "        seperator_text = \"-\" * (width + 1)\n",
    "\n",
    "        if col == 'date':\n",
    "            seperator_text = ':' + seperator_text \n",
    "        else:\n",
    "            seperator_text += ':' \n",
    "\n",
    "        seperator_list.append(seperator_text)\n",
    "\n",
    "    separator = \"|\" + \"|\".join(seperator_list) + \"|\"\n",
    "    \n",
    "    # 데이터 행 생성\n",
    "    data_rows = []\n",
    "    for _, row in df.iterrows():\n",
    "        data_row = \"|\" + \"|\".join(f\" {str(val):>{width}} \" for val, width in zip(row, col_widths)) + \"|\"\n",
    "        data_rows.append(data_row)\n",
    "    \n",
    "    # 최종 결과 조합\n",
    "    final_result = \"\\n\".join([header, separator] + data_rows)\n",
    "    \n",
    "    return final_result"
   ]
  },
  {
   "cell_type": "code",
   "execution_count": 59,
   "metadata": {},
   "outputs": [],
   "source": [
    "import random\n",
    "from datetime import datetime, timedelta\n",
    "\n",
    "# 날짜 랜덤 뽑기\n",
    "def random_date_range_2023():\n",
    "    year_start = datetime(2023, 1, 1)\n",
    "    year_end = datetime(2024, 6, 30)\n",
    "    \n",
    "    max_start = year_end - timedelta(days=11)\n",
    "    random_days = random.randint(0, (max_start - year_start).days)\n",
    "    start_date = year_start + timedelta(days=random_days)\n",
    "    \n",
    "    end_date = start_date + timedelta(days=11)\n",
    "    \n",
    "    start_str = start_date.strftime(\"%Y-%m-%d\")\n",
    "    end_str = end_date.strftime(\"%Y-%m-%d\")\n",
    "    \n",
    "    return start_str, end_str"
   ]
  },
  {
   "cell_type": "code",
   "execution_count": 69,
   "metadata": {},
   "outputs": [],
   "source": [
    "def get_temp_answer(df):\n",
    "    score = sum(df.iloc[-1][[\"inc-5\", \"inc-10\", \"inc-15\", \"inc-20\", \"inc-25\", \"inc-30\"]])\n",
    "\n",
    "    if score > 2:\n",
    "        return '증가'\n",
    "    elif score < -2:\n",
    "        return '감소'\n",
    "    else:\n",
    "        return None"
   ]
  },
  {
   "cell_type": "code",
   "execution_count": 65,
   "metadata": {},
   "outputs": [],
   "source": [
    "def get_answer(question):\n",
    "    system_prompt = \"다음 표는 주식 A에 대한 분석 결과입니다. 표를 바탕으로 향후 A의 주가가 상승할지 하락할지 예측하고 [증가] 혹은 [감소] 라고 답변하시요.\"\n",
    "    system_msg = {\"role\":\"system\", \"content\":system_prompt}\n",
    "\n",
    "    user_msg = {\"role\":'user', 'content': question}\n",
    "\n",
    "    response = client.chat.completions.create(\n",
    "        model = 'gpt-4o-mini',\n",
    "        messages = [system_msg, user_msg]\n",
    "    )\n",
    "\n",
    "    result = response.choices[0].message.content\n",
    "\n",
    "    print(result)\n",
    "    if '감소' in result:\n",
    "        return '[감소]'\n",
    "    elif '증가' in result:\n",
    "        return '[증가]'\n",
    "    else:\n",
    "        return None"
   ]
  },
  {
   "cell_type": "code",
   "execution_count": 70,
   "metadata": {},
   "outputs": [
    {
     "name": "stdout",
     "output_type": "stream",
     "text": [
      "### 분석:\n",
      "|    | date       |   open |   high |   low |   close |   adj close |   inc-5 |   inc-10 |   inc-15 |   inc-20 |   inc-25 |   inc-30 |\n",
      "|---:|:-----------|-------:|-------:|------:|--------:|------------:|--------:|---------:|---------:|---------:|---------:|---------:|\n",
      "|  0 | 2024-02-12 |  188.4 |  188.7 | 186.8 |   187.1 |       186.7 |    -3.0 |     -2.4 |     -9.1 |     -7.4 |     -5.9 |     -9.3 |\n",
      "|  1 | 2024-02-13 |  185.8 |  186.2 | 183.5 |   185.0 |       184.6 |    -1.5 |     -2.0 |     -8.6 |     -7.5 |     -3.4 |     -6.3 |\n",
      "|  2 | 2024-02-14 |  185.3 |  185.5 | 182.4 |   184.1 |       183.7 |     0.1 |     -1.8 |     -8.2 |     -6.1 |     -6.9 |     -6.9 |\n",
      "|  3 | 2024-02-15 |  183.6 |  184.5 | 181.4 |   183.9 |       183.4 |    -0.7 |     -2.3 |     -7.1 |     -6.1 |     -6.3 |     -7.5 |\n",
      "|  4 | 2024-02-16 |  183.4 |  184.9 | 181.7 |   182.3 |       181.9 |    -0.6 |     -4.0 |     -5.2 |     -4.7 |     -6.3 |     -7.4 |\n",
      "|  5 | 2024-02-20 |  181.8 |  182.4 | 180.0 |   181.6 |       181.1 |     0.6 |     -6.3 |     -4.6 |     -3.0 |     -6.5 |     -6.6 |\n",
      "|  6 | 2024-02-21 |  181.9 |  182.9 | 180.7 |   182.3 |       181.9 |    -0.5 |     -7.2 |     -6.1 |     -2.0 |     -4.9 |     -7.4 |\n",
      "|  7 | 2024-02-22 |  183.5 |  185.0 | 182.5 |   184.4 |       183.9 |    -2.0 |     -8.3 |     -6.2 |     -7.1 |     -7.0 |     -8.0 |\n",
      "|  8 | 2024-02-23 |  185.0 |  185.0 | 182.2 |   182.5 |       182.1 |    -1.6 |     -6.5 |     -5.4 |     -5.6 |     -6.8 |     -7.7 |\n",
      "|  9 | 2024-02-26 |  182.2 |  182.8 | 180.6 |   181.2 |       180.7 |    -3.3 |     -4.6 |     -4.1 |     -5.7 |     -6.8 |     -6.3 |\n",
      "감소\n"
     ]
    },
    {
     "name": "stderr",
     "output_type": "stream",
     "text": [
      "/tmp/ipykernel_96328/2816013016.py:29: FutureWarning: DataFrame.applymap has been deprecated. Use DataFrame.map instead.\n",
      "  result = df[:10].applymap(custom_round)\n"
     ]
    }
   ],
   "source": [
    "ticker = \"AAPL\"  # Apple Inc.\n",
    "start_date, end_date = random_date_range_2023()\n",
    "\n",
    "df = get_stock_data(ticker, start_date, end_date)\n",
    "temp_answer = get_temp_answer(df)\n",
    "result = \"### 분석:\\n\" + df_to_str(df)\n",
    "print(result)\n",
    "print(temp_answer)"
   ]
  },
  {
   "cell_type": "markdown",
   "metadata": {},
   "source": [
    "# 데이터를 뽑자"
   ]
  },
  {
   "cell_type": "code",
   "execution_count": 56,
   "metadata": {},
   "outputs": [],
   "source": [
    "korea_tickers = [\n",
    "    '005930.KS',  # 삼성전자\n",
    "    '000660.KS',  # SK하이닉스\n",
    "    '005380.KS',  # 현대차\n",
    "    '035420.KS',  # NAVER\n",
    "    '051910.KS',  # LG화학\n",
    "    '005490.KS',  # POSCO홀딩스\n",
    "    '035720.KS',  # 카카오\n",
    "    '000270.KS',  # 기아\n",
    "    '006400.KS',  # 삼성SDI\n",
    "    '068270.KS',  # 셀트리온\n",
    "    '051900.KS',  # LG생활건강\n",
    "    '028260.KS',  # 삼성물산\n",
    "    '207940.KS',  # 삼성바이오로직스\n",
    "    '012330.KS',  # 현대모비스\n",
    "    '066570.KS',  # LG전자\n",
    "    '032830.KS',  # 삼성생명\n",
    "    '055550.KS',  # 신한지주\n",
    "    '015760.KS',  # 한국전력\n",
    "    '017670.KS',  # SK텔레콤\n",
    "    '034730.KS',  # SK\n",
    "    '003550.KS',  # LG\n",
    "    '105560.KS',  # KB금융\n",
    "    '086790.KS',  # 하나금융지주\n",
    "    '033780.KS',  # KT&G\n",
    "    '000810.KS',  # 삼성화재\n",
    "    '009150.KS',  # 삼성전기\n",
    "    '018260.KS',  # 삼성에스디에스\n",
    "    '036570.KS',  # 엔씨소프트\n",
    "    '096770.KS',  # SK이노베이션\n",
    "    '090430.KS',  # 아모레퍼시픽\n",
    "    '316140.KS',  # 우리금융지주\n",
    "    '011200.KS',  # HMM\n",
    "    '024110.KS',  # 기업은행\n",
    "    '010130.KS',  # 고려아연\n",
    "    '009540.KS',  # 한국조선해양\n",
    "    '010950.KS',  # S-Oil\n",
    "    '034220.KS',  # LG디스플레이\n",
    "    '086280.KS',  # 현대글로비스\n",
    "    '000720.KS',  # 현대건설\n",
    "    '047810.KS',  # 한국항공우주\n",
    "    '161390.KS',  # 한국타이어앤테크놀로지\n",
    "    '023530.KS',  # 롯데쇼핑\n",
    "    '032640.KS',  # LG유플러스\n",
    "    '011170.KS',  # 롯데케미칼\n",
    "    '035250.KS',  # 강원랜드\n",
    "    '021240.KS',  # 코웨이\n",
    "    '004020.KS',  # 현대제철\n",
    "    '139480.KS',  # 이마트\n",
    "    '097950.KS',  # CJ제일제당\n",
    "    '006800.KS',  # 미래에셋증권\n",
    "    '035760.KQ',  # CJ ENM\n",
    "    '251270.KS',  # 넷마블\n",
    "    '006280.KS',  # 녹십자\n",
    "    '011780.KS',  # 금호석유\n",
    "    '003490.KS',  # 대한항공\n",
    "    '008770.KS',  # 호텔신라\n",
    "    '005830.KS',  # DB손해보험\n",
    "    '128940.KS',  # 한미약품\n",
    "    '138040.KS',  # 메리츠금융지주\n",
    "    '011790.KS',  # SKC\n",
    "    '005940.KS',  # NH투자증권\n",
    "    '078930.KS',  # GS\n",
    "    '006360.KS',  # GS건설\n",
    "    '009830.KS',  # 한화솔루션\n",
    "    '000100.KS',  # 유한양행\n",
    "    '030200.KS',  # KT\n",
    "    '002790.KS',  # 아모레G\n",
    "    '004990.KS',  # 롯데지주\n",
    "    '001040.KS',  # CJ\n",
    "    '010060.KS',  # OCI\n",
    "    '000120.KS',  # CJ대한통운\n",
    "    '069960.KS',  # 현대백화점\n",
    "    '004170.KS',  # 신세계\n",
    "    '010140.KS',  # 삼성중공업\n",
    "    '001450.KS',  # 현대해상\n",
    "    '011070.KS',  # LG이노텍\n",
    "    '036460.KS',  # 한국가스공사\n",
    "    '012750.KS',  # S&T모티브\n",
    "    '282330.KS',  # BGF리테일\n",
    "    '008930.KS',  # 한미사이언스\n",
    "    '009240.KS',  # 한샘\n",
    "    '007070.KS',  # GS리테일\n",
    "    '002380.KS',  # KCC\n",
    "    '039490.KS',  # 키움증권\n",
    "    '001740.KS',  # SK네트웍스\n",
    "    '005300.KS',  # 롯데칠성\n",
    "    '000080.KS',  # 하이트진로\n",
    "    '004800.KS',  # 효성\n",
    "    '001800.KS',  # 오리온홀딩스\n",
    "    '003410.KS',  # 쌍용C&E\n",
    "    '004370.KS',  # 농심\n",
    "    '285130.KS',  # SK케미칼\n",
    "    '003690.KS',  # 코오롱인더\n",
    "    '000210.KS',  # DL\n",
    "    '002710.KS',  # TCC스틸\n",
    "    '005850.KS',  # 에스엘\n",
    "    '006650.KS',  # 대한유화\n",
    "    '001680.KS',  # 대상\n",
    "    '003000.KS',  # 부광약품\n",
    "    '192820.KS',  # 코스맥스\n",
    "]"
   ]
  },
  {
   "cell_type": "code",
   "execution_count": 66,
   "metadata": {},
   "outputs": [
    {
     "name": "stderr",
     "output_type": "stream",
     "text": [
      "/tmp/ipykernel_96328/2816013016.py:29: FutureWarning: DataFrame.applymap has been deprecated. Use DataFrame.map instead.\n",
      "  result = df[:10].applymap(custom_round)\n"
     ]
    },
    {
     "name": "stdout",
     "output_type": "stream",
     "text": [
      "향후 A의 주가는 [감소]할 것으로 예측됩니다.\n"
     ]
    },
    {
     "name": "stderr",
     "output_type": "stream",
     "text": [
      "/tmp/ipykernel_96328/2816013016.py:29: FutureWarning: DataFrame.applymap has been deprecated. Use DataFrame.map instead.\n",
      "  result = df[:10].applymap(custom_round)\n"
     ]
    },
    {
     "name": "stdout",
     "output_type": "stream",
     "text": [
      "[감소]\n"
     ]
    },
    {
     "name": "stderr",
     "output_type": "stream",
     "text": [
      "/tmp/ipykernel_96328/2816013016.py:29: FutureWarning: DataFrame.applymap has been deprecated. Use DataFrame.map instead.\n",
      "  result = df[:10].applymap(custom_round)\n"
     ]
    },
    {
     "name": "stdout",
     "output_type": "stream",
     "text": [
      "주식 A의 최근 주가는 변동이 있으며, 특히 2023년 12월 1일부터 8일 사이에 상승세가 보입니다. 주가는 지난 5일 간의 입실적 증감률(inc-5)에서 4.2% 상승을 기록하고, 10일 간(inc-10)에서도 7.5%의 상승세를 보였습니다. 또한, 최근 주가가 최고치인 185700에 도달한 점은 긍정적인 신호로 볼 수 있습니다. 전반적으로 주가의 흐름이 상승하는 추세로 보이며, 추세가 지속될 것으로 예측됩니다.\n",
      "\n",
      "따라서 주가의 향후 움직임을 예측할 때 [증가]라고 판단합니다.\n"
     ]
    },
    {
     "name": "stderr",
     "output_type": "stream",
     "text": [
      "/tmp/ipykernel_96328/2816013016.py:29: FutureWarning: DataFrame.applymap has been deprecated. Use DataFrame.map instead.\n",
      "  result = df[:10].applymap(custom_round)\n"
     ]
    },
    {
     "name": "stdout",
     "output_type": "stream",
     "text": [
      "[감소]\n"
     ]
    },
    {
     "name": "stderr",
     "output_type": "stream",
     "text": [
      "/tmp/ipykernel_96328/2816013016.py:29: FutureWarning: DataFrame.applymap has been deprecated. Use DataFrame.map instead.\n",
      "  result = df[:10].applymap(custom_round)\n"
     ]
    },
    {
     "name": "stdout",
     "output_type": "stream",
     "text": [
      "[증가]\n"
     ]
    },
    {
     "name": "stderr",
     "output_type": "stream",
     "text": [
      "/tmp/ipykernel_96328/2816013016.py:29: FutureWarning: DataFrame.applymap has been deprecated. Use DataFrame.map instead.\n",
      "  result = df[:10].applymap(custom_round)\n"
     ]
    },
    {
     "name": "stdout",
     "output_type": "stream",
     "text": [
      "[증가]\n"
     ]
    },
    {
     "name": "stderr",
     "output_type": "stream",
     "text": [
      "/tmp/ipykernel_96328/2816013016.py:29: FutureWarning: DataFrame.applymap has been deprecated. Use DataFrame.map instead.\n",
      "  result = df[:10].applymap(custom_round)\n"
     ]
    },
    {
     "name": "stdout",
     "output_type": "stream",
     "text": [
      "[감소]\n"
     ]
    },
    {
     "name": "stderr",
     "output_type": "stream",
     "text": [
      "/tmp/ipykernel_96328/2816013016.py:29: FutureWarning: DataFrame.applymap has been deprecated. Use DataFrame.map instead.\n",
      "  result = df[:10].applymap(custom_round)\n"
     ]
    },
    {
     "name": "stdout",
     "output_type": "stream",
     "text": [
      "주식 A의 분석 결과를 바탕으로 주가의 향후 예측을 해보면, 최근 데이터에서 주가는 전반적으로 하락세에 있으며, 5일, 10일, 15일, 20일, 25일, 30일 증가율 모두 부정적인 값을 보이고 있습니다. 이는 가격이 계속해서 떨어지고 있다는 것을 시사합니다.\n",
      "\n",
      "따라서 향후 A의 주가는 [감소] 할 것으로 예측됩니다.\n"
     ]
    },
    {
     "name": "stderr",
     "output_type": "stream",
     "text": [
      "/tmp/ipykernel_96328/2816013016.py:29: FutureWarning: DataFrame.applymap has been deprecated. Use DataFrame.map instead.\n",
      "  result = df[:10].applymap(custom_round)\n"
     ]
    },
    {
     "name": "stdout",
     "output_type": "stream",
     "text": [
      "[감소]\n"
     ]
    },
    {
     "name": "stderr",
     "output_type": "stream",
     "text": [
      "/tmp/ipykernel_96328/2816013016.py:29: FutureWarning: DataFrame.applymap has been deprecated. Use DataFrame.map instead.\n",
      "  result = df[:10].applymap(custom_round)\n"
     ]
    },
    {
     "name": "stdout",
     "output_type": "stream",
     "text": [
      "[감소]\n"
     ]
    },
    {
     "name": "stderr",
     "output_type": "stream",
     "text": [
      "/tmp/ipykernel_96328/2816013016.py:29: FutureWarning: DataFrame.applymap has been deprecated. Use DataFrame.map instead.\n",
      "  result = df[:10].applymap(custom_round)\n"
     ]
    },
    {
     "name": "stdout",
     "output_type": "stream",
     "text": [
      "[감소]\n"
     ]
    },
    {
     "name": "stderr",
     "output_type": "stream",
     "text": [
      "/tmp/ipykernel_96328/2816013016.py:29: FutureWarning: DataFrame.applymap has been deprecated. Use DataFrame.map instead.\n",
      "  result = df[:10].applymap(custom_round)\n"
     ]
    },
    {
     "name": "stdout",
     "output_type": "stream",
     "text": [
      "[감소]\n"
     ]
    },
    {
     "name": "stderr",
     "output_type": "stream",
     "text": [
      "/tmp/ipykernel_96328/2816013016.py:29: FutureWarning: DataFrame.applymap has been deprecated. Use DataFrame.map instead.\n",
      "  result = df[:10].applymap(custom_round)\n"
     ]
    },
    {
     "name": "stdout",
     "output_type": "stream",
     "text": [
      "[증가]\n"
     ]
    },
    {
     "name": "stderr",
     "output_type": "stream",
     "text": [
      "/tmp/ipykernel_96328/2816013016.py:29: FutureWarning: DataFrame.applymap has been deprecated. Use DataFrame.map instead.\n",
      "  result = df[:10].applymap(custom_round)\n"
     ]
    },
    {
     "name": "stdout",
     "output_type": "stream",
     "text": [
      "주식 A에 대한 최근 분석 결과를 보면, 주가는 다양한 시간 기간에 따라 다소 변동성을 보였습니다. 최근 며칠 간 주가는 상승세를 타는 것으로 보이며(특히 2024-02-19에서 2024-02-20 간), 전체적으로 상승과 하락을 반복하고 있지만 여전히 긍정적인 지표가 많이 나타나고 있습니다. \n",
      "\n",
      "특히 'inc-5'와 'inc-10' 수치가 대체로 양호하며, 'close' 가격도 전반적으로 회복세를 보이고 있습니다. 이러한 요소들을 종합적으로 고려했을 때, 향후 주가가 상승할 가능성이 높습니다. \n",
      "\n",
      "따라서, 향후 A의 주가는 [증가]할 것으로 예측합니다.\n"
     ]
    },
    {
     "name": "stderr",
     "output_type": "stream",
     "text": [
      "/tmp/ipykernel_96328/2816013016.py:29: FutureWarning: DataFrame.applymap has been deprecated. Use DataFrame.map instead.\n",
      "  result = df[:10].applymap(custom_round)\n"
     ]
    },
    {
     "name": "stdout",
     "output_type": "stream",
     "text": [
      "주식 A의 최근 데이터를 분석했을 때, 주가는 전반적으로 하락세를 보이고 있으며, 특히 최근 기점부터 주가의 상승폭이 감소하고 있습니다. \n",
      "\n",
      "- 5일, 10일, 15일, 20일, 25일, 30일 기준 변화율을 살펴보면, 대부분의 구간에서 증가폭이 적거나 음수인 것을 확인할 수 있습니다.\n",
      "- 특히 마지막 주기의 5일 변화에서는 증가가 있는 반면, 10일에서는 다시 감소세가 드러나고 있는 상황입니다.\n",
      "\n",
      "그렇기에, 주가가 향후에 상승할 가능성보다 하락할 가능성이 더 크다고 판단됩니다.\n",
      "\n",
      "결론적으로, 주가는 [감소]할 것으로 예상됩니다.\n"
     ]
    },
    {
     "name": "stderr",
     "output_type": "stream",
     "text": [
      "/tmp/ipykernel_96328/2816013016.py:29: FutureWarning: DataFrame.applymap has been deprecated. Use DataFrame.map instead.\n",
      "  result = df[:10].applymap(custom_round)\n"
     ]
    },
    {
     "name": "stdout",
     "output_type": "stream",
     "text": [
      "[증가]\n"
     ]
    },
    {
     "name": "stderr",
     "output_type": "stream",
     "text": [
      "/tmp/ipykernel_96328/2816013016.py:29: FutureWarning: DataFrame.applymap has been deprecated. Use DataFrame.map instead.\n",
      "  result = df[:10].applymap(custom_round)\n"
     ]
    },
    {
     "name": "stdout",
     "output_type": "stream",
     "text": [
      "[감소]\n"
     ]
    },
    {
     "name": "stderr",
     "output_type": "stream",
     "text": [
      "/tmp/ipykernel_96328/2816013016.py:29: FutureWarning: DataFrame.applymap has been deprecated. Use DataFrame.map instead.\n",
      "  result = df[:10].applymap(custom_round)\n"
     ]
    },
    {
     "name": "stdout",
     "output_type": "stream",
     "text": [
      "[감소]\n"
     ]
    },
    {
     "name": "stderr",
     "output_type": "stream",
     "text": [
      "/tmp/ipykernel_96328/2816013016.py:29: FutureWarning: DataFrame.applymap has been deprecated. Use DataFrame.map instead.\n",
      "  result = df[:10].applymap(custom_round)\n"
     ]
    },
    {
     "name": "stdout",
     "output_type": "stream",
     "text": [
      "[감소]\n"
     ]
    },
    {
     "name": "stderr",
     "output_type": "stream",
     "text": [
      "/tmp/ipykernel_96328/2816013016.py:29: FutureWarning: DataFrame.applymap has been deprecated. Use DataFrame.map instead.\n",
      "  result = df[:10].applymap(custom_round)\n"
     ]
    },
    {
     "name": "stdout",
     "output_type": "stream",
     "text": [
      "주식 A의 분석 결과를 살펴보면, 최근 여러 거래일 동안의 주가 변화가 있습니다. `inc-5`, `inc-10`, `inc-15`, `inc-20`, `inc-25`, `inc-30` 값이 모두 음수 또는 낮은 양수로 나타나고 있음을 확인할 수 있습니다. 이는 주가가 이전보다 하락세에 있으며, 특히 `inc-10`부터 `inc-30`까지의 수치가 지속적으로 감소하고 있다는 점은 향후 주가 하락의 가능성을 시사합니다.\n",
      "\n",
      "따라서, 향후 A의 주가가 하락할 것으로 예상되어 [감소]라고 답변하겠습니다.\n"
     ]
    },
    {
     "name": "stderr",
     "output_type": "stream",
     "text": [
      "/tmp/ipykernel_96328/2816013016.py:29: FutureWarning: DataFrame.applymap has been deprecated. Use DataFrame.map instead.\n",
      "  result = df[:10].applymap(custom_round)\n"
     ]
    },
    {
     "name": "stdout",
     "output_type": "stream",
     "text": [
      "[증가]\n"
     ]
    },
    {
     "name": "stderr",
     "output_type": "stream",
     "text": [
      "/tmp/ipykernel_96328/2816013016.py:29: FutureWarning: DataFrame.applymap has been deprecated. Use DataFrame.map instead.\n",
      "  result = df[:10].applymap(custom_round)\n"
     ]
    },
    {
     "name": "stdout",
     "output_type": "stream",
     "text": [
      "[감소]\n"
     ]
    },
    {
     "name": "stderr",
     "output_type": "stream",
     "text": [
      "/tmp/ipykernel_96328/2816013016.py:29: FutureWarning: DataFrame.applymap has been deprecated. Use DataFrame.map instead.\n",
      "  result = df[:10].applymap(custom_round)\n"
     ]
    },
    {
     "name": "stdout",
     "output_type": "stream",
     "text": [
      "[감소]\n"
     ]
    },
    {
     "name": "stderr",
     "output_type": "stream",
     "text": [
      "/tmp/ipykernel_96328/2816013016.py:29: FutureWarning: DataFrame.applymap has been deprecated. Use DataFrame.map instead.\n",
      "  result = df[:10].applymap(custom_round)\n"
     ]
    },
    {
     "name": "stdout",
     "output_type": "stream",
     "text": [
      "[감소]\n"
     ]
    },
    {
     "name": "stderr",
     "output_type": "stream",
     "text": [
      "/tmp/ipykernel_96328/2816013016.py:29: FutureWarning: DataFrame.applymap has been deprecated. Use DataFrame.map instead.\n",
      "  result = df[:10].applymap(custom_round)\n"
     ]
    },
    {
     "name": "stdout",
     "output_type": "stream",
     "text": [
      "[감소]\n"
     ]
    },
    {
     "name": "stderr",
     "output_type": "stream",
     "text": [
      "/tmp/ipykernel_96328/2816013016.py:29: FutureWarning: DataFrame.applymap has been deprecated. Use DataFrame.map instead.\n",
      "  result = df[:10].applymap(custom_round)\n"
     ]
    },
    {
     "name": "stdout",
     "output_type": "stream",
     "text": [
      "[감소]\n"
     ]
    },
    {
     "name": "stderr",
     "output_type": "stream",
     "text": [
      "/tmp/ipykernel_96328/2816013016.py:29: FutureWarning: DataFrame.applymap has been deprecated. Use DataFrame.map instead.\n",
      "  result = df[:10].applymap(custom_round)\n"
     ]
    },
    {
     "name": "stdout",
     "output_type": "stream",
     "text": [
      "[감소]\n"
     ]
    },
    {
     "name": "stderr",
     "output_type": "stream",
     "text": [
      "/tmp/ipykernel_96328/2816013016.py:29: FutureWarning: DataFrame.applymap has been deprecated. Use DataFrame.map instead.\n",
      "  result = df[:10].applymap(custom_round)\n"
     ]
    },
    {
     "name": "stdout",
     "output_type": "stream",
     "text": [
      "주가 분석 결과를 바탕으로 A의 주가를 예측해보면, 최근 주가는 지속적으로 하락세를 보이고 있습니다. 특히, \"inc-5\"와 \"inc-10\" 열에서는 계속해서 음수 값을 기록하고 있어, 단기적으로도 상승세를 기대하기 어렵습니다. 따라서 향후 A의 주가는 [감소]할 것으로 예상됩니다.\n"
     ]
    },
    {
     "name": "stderr",
     "output_type": "stream",
     "text": [
      "/tmp/ipykernel_96328/2816013016.py:29: FutureWarning: DataFrame.applymap has been deprecated. Use DataFrame.map instead.\n",
      "  result = df[:10].applymap(custom_round)\n"
     ]
    },
    {
     "name": "stdout",
     "output_type": "stream",
     "text": [
      "[감소]\n"
     ]
    },
    {
     "name": "stderr",
     "output_type": "stream",
     "text": [
      "/tmp/ipykernel_96328/2816013016.py:29: FutureWarning: DataFrame.applymap has been deprecated. Use DataFrame.map instead.\n",
      "  result = df[:10].applymap(custom_round)\n"
     ]
    },
    {
     "name": "stdout",
     "output_type": "stream",
     "text": [
      "[증가]\n"
     ]
    },
    {
     "name": "stderr",
     "output_type": "stream",
     "text": [
      "/tmp/ipykernel_96328/2816013016.py:29: FutureWarning: DataFrame.applymap has been deprecated. Use DataFrame.map instead.\n",
      "  result = df[:10].applymap(custom_round)\n"
     ]
    },
    {
     "name": "stdout",
     "output_type": "stream",
     "text": [
      "[감소]\n"
     ]
    },
    {
     "name": "stderr",
     "output_type": "stream",
     "text": [
      "/tmp/ipykernel_96328/2816013016.py:29: FutureWarning: DataFrame.applymap has been deprecated. Use DataFrame.map instead.\n",
      "  result = df[:10].applymap(custom_round)\n"
     ]
    },
    {
     "name": "stdout",
     "output_type": "stream",
     "text": [
      "[증가]\n"
     ]
    },
    {
     "name": "stderr",
     "output_type": "stream",
     "text": [
      "/tmp/ipykernel_96328/2816013016.py:29: FutureWarning: DataFrame.applymap has been deprecated. Use DataFrame.map instead.\n",
      "  result = df[:10].applymap(custom_round)\n"
     ]
    },
    {
     "name": "stdout",
     "output_type": "stream",
     "text": [
      "[증가]\n"
     ]
    },
    {
     "name": "stderr",
     "output_type": "stream",
     "text": [
      "/tmp/ipykernel_96328/2816013016.py:29: FutureWarning: DataFrame.applymap has been deprecated. Use DataFrame.map instead.\n",
      "  result = df[:10].applymap(custom_round)\n"
     ]
    },
    {
     "name": "stdout",
     "output_type": "stream",
     "text": [
      "[감소]\n"
     ]
    },
    {
     "name": "stderr",
     "output_type": "stream",
     "text": [
      "/tmp/ipykernel_96328/2816013016.py:29: FutureWarning: DataFrame.applymap has been deprecated. Use DataFrame.map instead.\n",
      "  result = df[:10].applymap(custom_round)\n"
     ]
    },
    {
     "name": "stdout",
     "output_type": "stream",
     "text": [
      "[감소]\n"
     ]
    },
    {
     "name": "stderr",
     "output_type": "stream",
     "text": [
      "/tmp/ipykernel_96328/2816013016.py:29: FutureWarning: DataFrame.applymap has been deprecated. Use DataFrame.map instead.\n",
      "  result = df[:10].applymap(custom_round)\n"
     ]
    },
    {
     "name": "stdout",
     "output_type": "stream",
     "text": [
      "[감소]\n"
     ]
    },
    {
     "name": "stderr",
     "output_type": "stream",
     "text": [
      "/tmp/ipykernel_96328/2816013016.py:29: FutureWarning: DataFrame.applymap has been deprecated. Use DataFrame.map instead.\n",
      "  result = df[:10].applymap(custom_round)\n"
     ]
    },
    {
     "name": "stdout",
     "output_type": "stream",
     "text": [
      "[감소]\n"
     ]
    },
    {
     "name": "stderr",
     "output_type": "stream",
     "text": [
      "/tmp/ipykernel_96328/2816013016.py:29: FutureWarning: DataFrame.applymap has been deprecated. Use DataFrame.map instead.\n",
      "  result = df[:10].applymap(custom_round)\n"
     ]
    },
    {
     "name": "stdout",
     "output_type": "stream",
     "text": [
      "[감소]\n"
     ]
    },
    {
     "name": "stderr",
     "output_type": "stream",
     "text": [
      "/tmp/ipykernel_96328/2816013016.py:29: FutureWarning: DataFrame.applymap has been deprecated. Use DataFrame.map instead.\n",
      "  result = df[:10].applymap(custom_round)\n"
     ]
    },
    {
     "name": "stdout",
     "output_type": "stream",
     "text": [
      "[감소]\n"
     ]
    },
    {
     "name": "stderr",
     "output_type": "stream",
     "text": [
      "/tmp/ipykernel_96328/2816013016.py:29: FutureWarning: DataFrame.applymap has been deprecated. Use DataFrame.map instead.\n",
      "  result = df[:10].applymap(custom_round)\n"
     ]
    },
    {
     "name": "stdout",
     "output_type": "stream",
     "text": [
      "[감소]\n"
     ]
    },
    {
     "name": "stderr",
     "output_type": "stream",
     "text": [
      "/tmp/ipykernel_96328/2816013016.py:29: FutureWarning: DataFrame.applymap has been deprecated. Use DataFrame.map instead.\n",
      "  result = df[:10].applymap(custom_round)\n"
     ]
    },
    {
     "name": "stdout",
     "output_type": "stream",
     "text": [
      "[감소]\n"
     ]
    },
    {
     "name": "stderr",
     "output_type": "stream",
     "text": [
      "/tmp/ipykernel_96328/2816013016.py:29: FutureWarning: DataFrame.applymap has been deprecated. Use DataFrame.map instead.\n",
      "  result = df[:10].applymap(custom_round)\n"
     ]
    },
    {
     "name": "stdout",
     "output_type": "stream",
     "text": [
      "[감소]\n"
     ]
    },
    {
     "name": "stderr",
     "output_type": "stream",
     "text": [
      "/tmp/ipykernel_96328/2816013016.py:29: FutureWarning: DataFrame.applymap has been deprecated. Use DataFrame.map instead.\n",
      "  result = df[:10].applymap(custom_round)\n"
     ]
    },
    {
     "name": "stdout",
     "output_type": "stream",
     "text": [
      "주식 A의 분석 결과를 살펴보면, 인과성과 일관성을 고려할 때 향후 주가가 상승할 가능성이 있습니다. \n",
      "\n",
      "가장 최근 데이터인 2023-10-30에서 주가는 약간 감소하였지만, 전체적으로 최근 몇 주간의 'inc-5', 'inc-10', 'inc-15', 'inc-20', 'inc-25', 'inc-30' 지수는 상승세를 보이고 있습니다. 더불어 데이터를 통해 보았을 때 최근 주가는 최저가를 찍고 약간씩 회복하고 있는 경향이 뚜렷하게 나타납니다.\n",
      "\n",
      "결론적으로, 주식 A의 주가는 향후 [증가]할 것으로 예상됩니다.\n"
     ]
    },
    {
     "name": "stderr",
     "output_type": "stream",
     "text": [
      "/tmp/ipykernel_96328/2816013016.py:29: FutureWarning: DataFrame.applymap has been deprecated. Use DataFrame.map instead.\n",
      "  result = df[:10].applymap(custom_round)\n"
     ]
    },
    {
     "name": "stdout",
     "output_type": "stream",
     "text": [
      "[감소]\n"
     ]
    },
    {
     "name": "stderr",
     "output_type": "stream",
     "text": [
      "/tmp/ipykernel_96328/2816013016.py:29: FutureWarning: DataFrame.applymap has been deprecated. Use DataFrame.map instead.\n",
      "  result = df[:10].applymap(custom_round)\n"
     ]
    },
    {
     "name": "stdout",
     "output_type": "stream",
     "text": [
      "[감소]\n"
     ]
    },
    {
     "name": "stderr",
     "output_type": "stream",
     "text": [
      "/tmp/ipykernel_96328/2816013016.py:29: FutureWarning: DataFrame.applymap has been deprecated. Use DataFrame.map instead.\n",
      "  result = df[:10].applymap(custom_round)\n"
     ]
    },
    {
     "name": "stdout",
     "output_type": "stream",
     "text": [
      "[증가]\n"
     ]
    },
    {
     "name": "stderr",
     "output_type": "stream",
     "text": [
      "/tmp/ipykernel_96328/2816013016.py:29: FutureWarning: DataFrame.applymap has been deprecated. Use DataFrame.map instead.\n",
      "  result = df[:10].applymap(custom_round)\n"
     ]
    },
    {
     "name": "stdout",
     "output_type": "stream",
     "text": [
      "[감소]\n"
     ]
    },
    {
     "name": "stderr",
     "output_type": "stream",
     "text": [
      "/tmp/ipykernel_96328/2816013016.py:29: FutureWarning: DataFrame.applymap has been deprecated. Use DataFrame.map instead.\n",
      "  result = df[:10].applymap(custom_round)\n"
     ]
    },
    {
     "name": "stdout",
     "output_type": "stream",
     "text": [
      "[감소]\n"
     ]
    },
    {
     "name": "stderr",
     "output_type": "stream",
     "text": [
      "/tmp/ipykernel_96328/2816013016.py:29: FutureWarning: DataFrame.applymap has been deprecated. Use DataFrame.map instead.\n",
      "  result = df[:10].applymap(custom_round)\n"
     ]
    },
    {
     "name": "stdout",
     "output_type": "stream",
     "text": [
      "[감소]\n"
     ]
    },
    {
     "name": "stderr",
     "output_type": "stream",
     "text": [
      "/tmp/ipykernel_96328/2816013016.py:29: FutureWarning: DataFrame.applymap has been deprecated. Use DataFrame.map instead.\n",
      "  result = df[:10].applymap(custom_round)\n"
     ]
    },
    {
     "name": "stdout",
     "output_type": "stream",
     "text": [
      "[감소]\n"
     ]
    },
    {
     "name": "stderr",
     "output_type": "stream",
     "text": [
      "/tmp/ipykernel_96328/2816013016.py:29: FutureWarning: DataFrame.applymap has been deprecated. Use DataFrame.map instead.\n",
      "  result = df[:10].applymap(custom_round)\n"
     ]
    },
    {
     "name": "stdout",
     "output_type": "stream",
     "text": [
      "향후 A의 주가가 [증가]할 것으로 예측합니다.\n"
     ]
    },
    {
     "name": "stderr",
     "output_type": "stream",
     "text": [
      "/tmp/ipykernel_96328/2816013016.py:29: FutureWarning: DataFrame.applymap has been deprecated. Use DataFrame.map instead.\n",
      "  result = df[:10].applymap(custom_round)\n"
     ]
    },
    {
     "name": "stdout",
     "output_type": "stream",
     "text": [
      "[감소]\n"
     ]
    },
    {
     "name": "stderr",
     "output_type": "stream",
     "text": [
      "/tmp/ipykernel_96328/2816013016.py:29: FutureWarning: DataFrame.applymap has been deprecated. Use DataFrame.map instead.\n",
      "  result = df[:10].applymap(custom_round)\n"
     ]
    },
    {
     "name": "stdout",
     "output_type": "stream",
     "text": [
      "[감소]\n"
     ]
    },
    {
     "name": "stderr",
     "output_type": "stream",
     "text": [
      "/tmp/ipykernel_96328/2816013016.py:29: FutureWarning: DataFrame.applymap has been deprecated. Use DataFrame.map instead.\n",
      "  result = df[:10].applymap(custom_round)\n"
     ]
    },
    {
     "name": "stdout",
     "output_type": "stream",
     "text": [
      "주식 A의 최근 분석 결과를 보면, 주가는 연속적으로 하락하고 있으며, 특히 최근 며칠간의 종가가 지속적인 감소 추세에 있습니다. 이러한 경향은 단기적으로 주가에 부정적인 영향을 미치는 것으로 보입니다. \n",
      "\n",
      "또한, 'inc-5'에서 'inc-10', 'inc-15', 'inc-20', 'inc-25', 'inc-30'의 수치들을 비교해보면, 상대적으로 5일의 변화량이 다른 기간에 비해 부정적이거나 회복세가 없는 것을 볼 수 있습니다. 특히, 'inc-30'의 수치는 이전에 비해 매우 낮은 증가세를 보이고 있습니다. \n",
      "\n",
      "결론적으로, 현재의 하락세와 함께 분석된 여러 지표를 종합적으로 평가할 때, 향후 A의 주가는 하락할 것으로 예상됩니다. \n",
      "\n",
      "[감소]\n"
     ]
    },
    {
     "name": "stderr",
     "output_type": "stream",
     "text": [
      "/tmp/ipykernel_96328/2816013016.py:29: FutureWarning: DataFrame.applymap has been deprecated. Use DataFrame.map instead.\n",
      "  result = df[:10].applymap(custom_round)\n"
     ]
    },
    {
     "name": "stdout",
     "output_type": "stream",
     "text": [
      "[증가]\n"
     ]
    },
    {
     "name": "stderr",
     "output_type": "stream",
     "text": [
      "/tmp/ipykernel_96328/2816013016.py:29: FutureWarning: DataFrame.applymap has been deprecated. Use DataFrame.map instead.\n",
      "  result = df[:10].applymap(custom_round)\n"
     ]
    },
    {
     "name": "stdout",
     "output_type": "stream",
     "text": [
      "[감소]\n"
     ]
    },
    {
     "name": "stderr",
     "output_type": "stream",
     "text": [
      "/tmp/ipykernel_96328/2816013016.py:29: FutureWarning: DataFrame.applymap has been deprecated. Use DataFrame.map instead.\n",
      "  result = df[:10].applymap(custom_round)\n"
     ]
    },
    {
     "name": "stdout",
     "output_type": "stream",
     "text": [
      "[감소]\n"
     ]
    },
    {
     "name": "stderr",
     "output_type": "stream",
     "text": [
      "/tmp/ipykernel_96328/2816013016.py:29: FutureWarning: DataFrame.applymap has been deprecated. Use DataFrame.map instead.\n",
      "  result = df[:10].applymap(custom_round)\n"
     ]
    },
    {
     "name": "stdout",
     "output_type": "stream",
     "text": [
      "[감소]\n"
     ]
    },
    {
     "name": "stderr",
     "output_type": "stream",
     "text": [
      "/tmp/ipykernel_96328/2816013016.py:29: FutureWarning: DataFrame.applymap has been deprecated. Use DataFrame.map instead.\n",
      "  result = df[:10].applymap(custom_round)\n"
     ]
    },
    {
     "name": "stdout",
     "output_type": "stream",
     "text": [
      "향후 A의 주가에 대한 예측은 [증가]입니다.\n"
     ]
    },
    {
     "name": "stderr",
     "output_type": "stream",
     "text": [
      "/tmp/ipykernel_96328/2816013016.py:29: FutureWarning: DataFrame.applymap has been deprecated. Use DataFrame.map instead.\n",
      "  result = df[:10].applymap(custom_round)\n"
     ]
    },
    {
     "name": "stdout",
     "output_type": "stream",
     "text": [
      "[감소]\n"
     ]
    },
    {
     "name": "stderr",
     "output_type": "stream",
     "text": [
      "/tmp/ipykernel_96328/2816013016.py:29: FutureWarning: DataFrame.applymap has been deprecated. Use DataFrame.map instead.\n",
      "  result = df[:10].applymap(custom_round)\n"
     ]
    },
    {
     "name": "stdout",
     "output_type": "stream",
     "text": [
      "주식 A의 분석 결과를 바탕으로 보면, 최근 몇일 동안 주가의 증가율(inc-n)은 대부분 부정적이거나 약간의 변동성을 보여주고 있습니다. 특히 5일 및 10일 증가율이 대부분 음수이거나 안정적이지 않은 모습을 보이며, 최근의 종가는 다소 하락세를 보이고 있습니다.\n",
      "\n",
      "따라서 향후 A의 주가가 상승할지 하락할지 예측해보면 [감소]라고 할 수 있습니다.\n"
     ]
    },
    {
     "name": "stderr",
     "output_type": "stream",
     "text": [
      "/tmp/ipykernel_96328/2816013016.py:29: FutureWarning: DataFrame.applymap has been deprecated. Use DataFrame.map instead.\n",
      "  result = df[:10].applymap(custom_round)\n"
     ]
    },
    {
     "name": "stdout",
     "output_type": "stream",
     "text": [
      "[감소]\n"
     ]
    },
    {
     "name": "stderr",
     "output_type": "stream",
     "text": [
      "/tmp/ipykernel_96328/2816013016.py:29: FutureWarning: DataFrame.applymap has been deprecated. Use DataFrame.map instead.\n",
      "  result = df[:10].applymap(custom_round)\n"
     ]
    },
    {
     "name": "stdout",
     "output_type": "stream",
     "text": [
      "[증가]\n"
     ]
    },
    {
     "name": "stderr",
     "output_type": "stream",
     "text": [
      "/tmp/ipykernel_96328/2816013016.py:29: FutureWarning: DataFrame.applymap has been deprecated. Use DataFrame.map instead.\n",
      "  result = df[:10].applymap(custom_round)\n"
     ]
    },
    {
     "name": "stdout",
     "output_type": "stream",
     "text": [
      "주가 A의 분석 결과를 보면, 최근 10일 및 15일 간의 상승 폭이 감소하고 있으며, 20일 및 25일 간의 수치도 전반적으로 감소하는 추세를 보이고 있습니다. 또한 최근 데이터에서 주가는 급격히 상승했으나, 마지막 날짜에 다시 하락세가 나타나고 있습니다.\n",
      "\n",
      "따라서, 이러한 데이터를 바탕으로 향후 A의 주가는 하락할 것으로 예상됩니다. \n",
      "\n",
      "결론적으로 주가는 [감소]할 것입니다.\n"
     ]
    },
    {
     "name": "stderr",
     "output_type": "stream",
     "text": [
      "/tmp/ipykernel_96328/2816013016.py:29: FutureWarning: DataFrame.applymap has been deprecated. Use DataFrame.map instead.\n",
      "  result = df[:10].applymap(custom_round)\n"
     ]
    },
    {
     "name": "stdout",
     "output_type": "stream",
     "text": [
      "향후 A의 주가는 [감소]할 것으로 예측됩니다.\n"
     ]
    },
    {
     "name": "stderr",
     "output_type": "stream",
     "text": [
      "/tmp/ipykernel_96328/2816013016.py:29: FutureWarning: DataFrame.applymap has been deprecated. Use DataFrame.map instead.\n",
      "  result = df[:10].applymap(custom_round)\n"
     ]
    },
    {
     "name": "stdout",
     "output_type": "stream",
     "text": [
      "[감소]\n"
     ]
    },
    {
     "name": "stderr",
     "output_type": "stream",
     "text": [
      "/tmp/ipykernel_96328/2816013016.py:29: FutureWarning: DataFrame.applymap has been deprecated. Use DataFrame.map instead.\n",
      "  result = df[:10].applymap(custom_round)\n"
     ]
    },
    {
     "name": "stdout",
     "output_type": "stream",
     "text": [
      "[증가]\n"
     ]
    },
    {
     "name": "stderr",
     "output_type": "stream",
     "text": [
      "/tmp/ipykernel_96328/2816013016.py:29: FutureWarning: DataFrame.applymap has been deprecated. Use DataFrame.map instead.\n",
      "  result = df[:10].applymap(custom_round)\n"
     ]
    },
    {
     "name": "stdout",
     "output_type": "stream",
     "text": [
      "[감소]\n"
     ]
    },
    {
     "name": "stderr",
     "output_type": "stream",
     "text": [
      "/tmp/ipykernel_96328/2816013016.py:29: FutureWarning: DataFrame.applymap has been deprecated. Use DataFrame.map instead.\n",
      "  result = df[:10].applymap(custom_round)\n"
     ]
    },
    {
     "name": "stdout",
     "output_type": "stream",
     "text": [
      "[감소]\n"
     ]
    },
    {
     "name": "stderr",
     "output_type": "stream",
     "text": [
      "/tmp/ipykernel_96328/2816013016.py:29: FutureWarning: DataFrame.applymap has been deprecated. Use DataFrame.map instead.\n",
      "  result = df[:10].applymap(custom_round)\n"
     ]
    },
    {
     "name": "stdout",
     "output_type": "stream",
     "text": [
      "[증가]\n"
     ]
    },
    {
     "name": "stderr",
     "output_type": "stream",
     "text": [
      "/tmp/ipykernel_96328/2816013016.py:29: FutureWarning: DataFrame.applymap has been deprecated. Use DataFrame.map instead.\n",
      "  result = df[:10].applymap(custom_round)\n"
     ]
    },
    {
     "name": "stdout",
     "output_type": "stream",
     "text": [
      "[감소]\n"
     ]
    },
    {
     "name": "stderr",
     "output_type": "stream",
     "text": [
      "/tmp/ipykernel_96328/2816013016.py:29: FutureWarning: DataFrame.applymap has been deprecated. Use DataFrame.map instead.\n",
      "  result = df[:10].applymap(custom_round)\n"
     ]
    },
    {
     "name": "stdout",
     "output_type": "stream",
     "text": [
      "[감소]\n"
     ]
    },
    {
     "name": "stderr",
     "output_type": "stream",
     "text": [
      "/tmp/ipykernel_96328/2816013016.py:29: FutureWarning: DataFrame.applymap has been deprecated. Use DataFrame.map instead.\n",
      "  result = df[:10].applymap(custom_round)\n"
     ]
    },
    {
     "name": "stdout",
     "output_type": "stream",
     "text": [
      "[감소]\n"
     ]
    },
    {
     "name": "stderr",
     "output_type": "stream",
     "text": [
      "/tmp/ipykernel_96328/2816013016.py:29: FutureWarning: DataFrame.applymap has been deprecated. Use DataFrame.map instead.\n",
      "  result = df[:10].applymap(custom_round)\n"
     ]
    },
    {
     "name": "stdout",
     "output_type": "stream",
     "text": [
      "[감소]\n"
     ]
    },
    {
     "name": "stderr",
     "output_type": "stream",
     "text": [
      "/tmp/ipykernel_96328/2816013016.py:29: FutureWarning: DataFrame.applymap has been deprecated. Use DataFrame.map instead.\n",
      "  result = df[:10].applymap(custom_round)\n"
     ]
    },
    {
     "name": "stdout",
     "output_type": "stream",
     "text": [
      "향후 A의 주가는 [감소]할 것으로 예측됩니다.\n"
     ]
    },
    {
     "name": "stderr",
     "output_type": "stream",
     "text": [
      "/tmp/ipykernel_96328/2816013016.py:29: FutureWarning: DataFrame.applymap has been deprecated. Use DataFrame.map instead.\n",
      "  result = df[:10].applymap(custom_round)\n"
     ]
    },
    {
     "name": "stdout",
     "output_type": "stream",
     "text": [
      "[감소]\n"
     ]
    },
    {
     "name": "stderr",
     "output_type": "stream",
     "text": [
      "/tmp/ipykernel_96328/2816013016.py:29: FutureWarning: DataFrame.applymap has been deprecated. Use DataFrame.map instead.\n",
      "  result = df[:10].applymap(custom_round)\n"
     ]
    },
    {
     "name": "stdout",
     "output_type": "stream",
     "text": [
      "향후 A의 주가는 상승할 가능성이 있습니다. 최근 5일, 10일, 15일, 20일, 25일, 30일 이동 평균에서 긍정적인 변화를 보이는 지표가 존재하며, 특히 5일과 10일 기준으로 일부 상승세를 보이고 있습니다. 따라서 주가는 [증가]할 것으로 예측됩니다.\n"
     ]
    },
    {
     "name": "stderr",
     "output_type": "stream",
     "text": [
      "/tmp/ipykernel_96328/2816013016.py:29: FutureWarning: DataFrame.applymap has been deprecated. Use DataFrame.map instead.\n",
      "  result = df[:10].applymap(custom_round)\n"
     ]
    },
    {
     "name": "stdout",
     "output_type": "stream",
     "text": [
      "[감소]\n"
     ]
    },
    {
     "name": "stderr",
     "output_type": "stream",
     "text": [
      "/tmp/ipykernel_96328/2816013016.py:29: FutureWarning: DataFrame.applymap has been deprecated. Use DataFrame.map instead.\n",
      "  result = df[:10].applymap(custom_round)\n"
     ]
    },
    {
     "name": "stdout",
     "output_type": "stream",
     "text": [
      "[감소]\n"
     ]
    },
    {
     "name": "stderr",
     "output_type": "stream",
     "text": [
      "/tmp/ipykernel_96328/2816013016.py:29: FutureWarning: DataFrame.applymap has been deprecated. Use DataFrame.map instead.\n",
      "  result = df[:10].applymap(custom_round)\n"
     ]
    },
    {
     "name": "stdout",
     "output_type": "stream",
     "text": [
      "향후 A의 주가는 [감소]할 것으로 예측됩니다.\n"
     ]
    },
    {
     "name": "stderr",
     "output_type": "stream",
     "text": [
      "/tmp/ipykernel_96328/2816013016.py:29: FutureWarning: DataFrame.applymap has been deprecated. Use DataFrame.map instead.\n",
      "  result = df[:10].applymap(custom_round)\n"
     ]
    },
    {
     "name": "stdout",
     "output_type": "stream",
     "text": [
      "[감소]\n"
     ]
    },
    {
     "name": "stderr",
     "output_type": "stream",
     "text": [
      "/tmp/ipykernel_96328/2816013016.py:29: FutureWarning: DataFrame.applymap has been deprecated. Use DataFrame.map instead.\n",
      "  result = df[:10].applymap(custom_round)\n"
     ]
    },
    {
     "name": "stdout",
     "output_type": "stream",
     "text": [
      "향후 A의 주가는 [증가]할 것으로 예측됩니다.\n"
     ]
    },
    {
     "name": "stderr",
     "output_type": "stream",
     "text": [
      "/tmp/ipykernel_96328/2816013016.py:29: FutureWarning: DataFrame.applymap has been deprecated. Use DataFrame.map instead.\n",
      "  result = df[:10].applymap(custom_round)\n"
     ]
    },
    {
     "name": "stdout",
     "output_type": "stream",
     "text": [
      "상세한 분석 결과에 따르면, 주식 A의 주가는 최근 몇 주 동안 하락세를 보였으며, 특히 전반적으로 감소 추세가 이어졌습니다. 테이블에서 나타나는 여러 지표를 통해 주가의 감소를 확인할 수 있습니다. 특히, `inc-5`, `inc-10`, `inc-15`, `inc-20`, `inc-25`, `inc-30` 등 과거 수치들이 대부분 음수를 기록하며 하락세를 시사하고 있습니다. \n",
      "\n",
      "따라서 주식 A의 주가는 앞으로도 하락할 것으로 예측됩니다. \n",
      "\n",
      "[감소]\n"
     ]
    },
    {
     "name": "stderr",
     "output_type": "stream",
     "text": [
      "/tmp/ipykernel_96328/2816013016.py:29: FutureWarning: DataFrame.applymap has been deprecated. Use DataFrame.map instead.\n",
      "  result = df[:10].applymap(custom_round)\n"
     ]
    },
    {
     "name": "stdout",
     "output_type": "stream",
     "text": [
      "주식 A에 대한 분석 결과를 바탕으로 향후 주가를 예측해보면, 최근 주가(종가)가 101,500에서 101,000으로 소폭 하락했으며, 과거 5일, 10일, 15일, 20일, 25일, 30일 수익률(inc-5, inc-10, inc-15 등)의 추세를 살펴보면 과거 당신이 알고 있는 가장 최근의 주가 상승률은 둔화되고 있거나 약세를 보이는 패턴을 나타내고 있습니다. 특히 25일과 30일 증가율은 모두 음수입니다.\n",
      "\n",
      "결과적으로, 최근의 주가 흐름과 과거 수익률을 고려할 때 주가가 향후 하락할 것으로 보입니다.\n",
      "\n",
      "따라서, 주가는 [감소]할 것으로 예측합니다.\n"
     ]
    },
    {
     "name": "stderr",
     "output_type": "stream",
     "text": [
      "/tmp/ipykernel_96328/2816013016.py:29: FutureWarning: DataFrame.applymap has been deprecated. Use DataFrame.map instead.\n",
      "  result = df[:10].applymap(custom_round)\n"
     ]
    },
    {
     "name": "stdout",
     "output_type": "stream",
     "text": [
      "주식 A의 향후 주가를 예측할 때, 최근 데이터에서의 주가 변화를 살펴보면 주가가 다양하게 변화하고 있습니다. 특히 최근 며칠 동안의 'inc-5', 'inc-10', 'inc-15' 등의 변화량은 대체로 부정적이며, 상승보다는 하락하는 경향을 보입니다.\n",
      "\n",
      "주요 포인트를 정리하자면:\n",
      "- 최근 일주일 간 주가는 상승과 하락을 반복하며 4일 연속으로 하락세를 보였습니다.\n",
      "- 'inc-5' 지표는 최근 5일간 주가 변화량이 -1.0% 이하로 하락하고 있습니다.\n",
      "- 'inc-10' 지표도 부정적인 변화를 보이고 있으며, 전체적으로 하락세가 지속되는 패턴입니다.\n",
      "\n",
      "따라서 이러한 분석을 토대로 볼 때, 주식 A의 주가는 앞으로 [감소]할 것으로 예측됩니다.\n"
     ]
    },
    {
     "name": "stderr",
     "output_type": "stream",
     "text": [
      "/tmp/ipykernel_96328/2816013016.py:29: FutureWarning: DataFrame.applymap has been deprecated. Use DataFrame.map instead.\n",
      "  result = df[:10].applymap(custom_round)\n"
     ]
    },
    {
     "name": "stdout",
     "output_type": "stream",
     "text": [
      "[감소]\n"
     ]
    },
    {
     "name": "stderr",
     "output_type": "stream",
     "text": [
      "/tmp/ipykernel_96328/2816013016.py:29: FutureWarning: DataFrame.applymap has been deprecated. Use DataFrame.map instead.\n",
      "  result = df[:10].applymap(custom_round)\n"
     ]
    },
    {
     "name": "stdout",
     "output_type": "stream",
     "text": [
      "[감소]\n"
     ]
    },
    {
     "name": "stderr",
     "output_type": "stream",
     "text": [
      "/tmp/ipykernel_96328/2816013016.py:29: FutureWarning: DataFrame.applymap has been deprecated. Use DataFrame.map instead.\n",
      "  result = df[:10].applymap(custom_round)\n"
     ]
    },
    {
     "name": "stdout",
     "output_type": "stream",
     "text": [
      "[증가]\n"
     ]
    },
    {
     "name": "stderr",
     "output_type": "stream",
     "text": [
      "/tmp/ipykernel_96328/2816013016.py:29: FutureWarning: DataFrame.applymap has been deprecated. Use DataFrame.map instead.\n",
      "  result = df[:10].applymap(custom_round)\n"
     ]
    },
    {
     "name": "stdout",
     "output_type": "stream",
     "text": [
      "[감소]\n"
     ]
    },
    {
     "name": "stderr",
     "output_type": "stream",
     "text": [
      "$003410.KS: possibly delisted; no timezone found\n",
      "/tmp/ipykernel_96328/2816013016.py:29: FutureWarning: DataFrame.applymap has been deprecated. Use DataFrame.map instead.\n",
      "  result = df[:10].applymap(custom_round)\n"
     ]
    },
    {
     "name": "stdout",
     "output_type": "stream",
     "text": [
      "A의 주가 예측 결과: [증가]\n"
     ]
    },
    {
     "name": "stderr",
     "output_type": "stream",
     "text": [
      "/tmp/ipykernel_96328/2816013016.py:29: FutureWarning: DataFrame.applymap has been deprecated. Use DataFrame.map instead.\n",
      "  result = df[:10].applymap(custom_round)\n"
     ]
    },
    {
     "name": "stdout",
     "output_type": "stream",
     "text": [
      "[감소]\n"
     ]
    },
    {
     "name": "stderr",
     "output_type": "stream",
     "text": [
      "/tmp/ipykernel_96328/2816013016.py:29: FutureWarning: DataFrame.applymap has been deprecated. Use DataFrame.map instead.\n",
      "  result = df[:10].applymap(custom_round)\n"
     ]
    },
    {
     "name": "stdout",
     "output_type": "stream",
     "text": [
      "[감소]\n"
     ]
    },
    {
     "name": "stderr",
     "output_type": "stream",
     "text": [
      "/tmp/ipykernel_96328/2816013016.py:29: FutureWarning: DataFrame.applymap has been deprecated. Use DataFrame.map instead.\n",
      "  result = df[:10].applymap(custom_round)\n"
     ]
    },
    {
     "name": "stdout",
     "output_type": "stream",
     "text": [
      "향후 A의 주가 예측: [감소]\n"
     ]
    },
    {
     "name": "stderr",
     "output_type": "stream",
     "text": [
      "/tmp/ipykernel_96328/2816013016.py:29: FutureWarning: DataFrame.applymap has been deprecated. Use DataFrame.map instead.\n",
      "  result = df[:10].applymap(custom_round)\n"
     ]
    },
    {
     "name": "stdout",
     "output_type": "stream",
     "text": [
      "[감소]\n"
     ]
    },
    {
     "name": "stderr",
     "output_type": "stream",
     "text": [
      "/tmp/ipykernel_96328/2816013016.py:29: FutureWarning: DataFrame.applymap has been deprecated. Use DataFrame.map instead.\n",
      "  result = df[:10].applymap(custom_round)\n"
     ]
    },
    {
     "name": "stdout",
     "output_type": "stream",
     "text": [
      "[감소]\n"
     ]
    },
    {
     "name": "stderr",
     "output_type": "stream",
     "text": [
      "/tmp/ipykernel_96328/2816013016.py:29: FutureWarning: DataFrame.applymap has been deprecated. Use DataFrame.map instead.\n",
      "  result = df[:10].applymap(custom_round)\n"
     ]
    },
    {
     "name": "stdout",
     "output_type": "stream",
     "text": [
      "[감소]\n"
     ]
    },
    {
     "name": "stderr",
     "output_type": "stream",
     "text": [
      "/tmp/ipykernel_96328/2816013016.py:29: FutureWarning: DataFrame.applymap has been deprecated. Use DataFrame.map instead.\n",
      "  result = df[:10].applymap(custom_round)\n"
     ]
    },
    {
     "name": "stdout",
     "output_type": "stream",
     "text": [
      "향후 A의 주가를 분석한 결과, 최근의 주가 변동 및 증가율을 고려했을 때, A의 주가는 [증가]할 것으로 예상됩니다.\n"
     ]
    },
    {
     "name": "stderr",
     "output_type": "stream",
     "text": [
      "/tmp/ipykernel_96328/2816013016.py:29: FutureWarning: DataFrame.applymap has been deprecated. Use DataFrame.map instead.\n",
      "  result = df[:10].applymap(custom_round)\n"
     ]
    },
    {
     "name": "stdout",
     "output_type": "stream",
     "text": [
      "[증가]\n"
     ]
    },
    {
     "name": "stderr",
     "output_type": "stream",
     "text": [
      "/tmp/ipykernel_96328/2816013016.py:29: FutureWarning: DataFrame.applymap has been deprecated. Use DataFrame.map instead.\n",
      "  result = df[:10].applymap(custom_round)\n"
     ]
    },
    {
     "name": "stdout",
     "output_type": "stream",
     "text": [
      "주식 A의 최근 분석 결과를 살펴보면, 10일, 15일, 20일, 25일 기간 모두에서 주가가 감소하는 추세를 보이고 있습니다. 특히, 'inc-5'에서 '-10.4', 'inc-10'에서 '-3.0', 'inc-15'에서 '2.3' 등의 수치가 나타나며 전반적으로 부정적인 흐름이 지속되고 있습니다.\n",
      "\n",
      "따라서 향후 주가가 어떻게 될지를 예측하면 주가는 [감소]할 것으로 보입니다.\n"
     ]
    },
    {
     "name": "stderr",
     "output_type": "stream",
     "text": [
      "/tmp/ipykernel_96328/2816013016.py:29: FutureWarning: DataFrame.applymap has been deprecated. Use DataFrame.map instead.\n",
      "  result = df[:10].applymap(custom_round)\n"
     ]
    },
    {
     "name": "stdout",
     "output_type": "stream",
     "text": [
      "[감소]\n"
     ]
    }
   ],
   "source": [
    "# 8.10 -> 8.09 \n",
    "from tqdm import tqdm\n",
    "\n",
    "stock_price_questions = []\n",
    "for ticker in tqdm(korea_tickers):\n",
    "    decrease_data_cnt = 0 \n",
    "    increase_data_cnt = 0\n",
    "\n",
    "    for _ in range(10):\n",
    "        start_date, end_date = random_date_range_2023()\n",
    "        df = get_stock_data(ticker, start_date, end_date)\n",
    "        temp_answer = get_temp_answer(df)\n",
    "\n",
    "        if temp_answer == '증가':\n",
    "\n",
    "        elif temp_answer == '감소':\n",
    "            \n",
    "\n",
    "    question = \"### 분석:\\n\" + df_to_str(df)\n",
    "    answer = get_answer(question)\n",
    "    item = {\"question\": question, \"answer\": answer}\n",
    "    stock_price_questions.append(item)        "
   ]
  },
  {
   "cell_type": "code",
   "execution_count": null,
   "metadata": {},
   "outputs": [],
   "source": []
  }
 ],
 "metadata": {
  "kernelspec": {
   "display_name": "base",
   "language": "python",
   "name": "python3"
  },
  "language_info": {
   "codemirror_mode": {
    "name": "ipython",
    "version": 3
   },
   "file_extension": ".py",
   "mimetype": "text/x-python",
   "name": "python",
   "nbconvert_exporter": "python",
   "pygments_lexer": "ipython3",
   "version": "3.10.13"
  }
 },
 "nbformat": 4,
 "nbformat_minor": 2
}
