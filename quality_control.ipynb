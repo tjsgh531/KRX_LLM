{
 "cells": [
  {
   "cell_type": "code",
   "execution_count": 128,
   "metadata": {},
   "outputs": [
    {
     "name": "stdout",
     "output_type": "stream",
     "text": [
      "100\n",
      "98\n"
     ]
    }
   ],
   "source": [
    "import pandas as pd\n",
    "\n",
    "df = pd.read_csv('/root/KRX_LLM/data/krx_sample_mcqa_data4.csv')\n",
    "def is_numeric(val):\n",
    "    try:\n",
    "        int(val)\n",
    "        return True\n",
    "    except ValueError:\n",
    "        return False\n",
    "\n",
    "print(len(df))\n",
    "df = df[df['answer'].apply(is_numeric)]\n",
    "df = df.reset_index(drop=True)\n",
    "\n",
    "df['question'] = df['question'].map(lambda x : x)\n",
    "print(len(df))"
   ]
  },
  {
   "cell_type": "code",
   "execution_count": 129,
   "metadata": {},
   "outputs": [
    {
     "data": {
      "text/html": [
       "<div>\n",
       "<style scoped>\n",
       "    .dataframe tbody tr th:only-of-type {\n",
       "        vertical-align: middle;\n",
       "    }\n",
       "\n",
       "    .dataframe tbody tr th {\n",
       "        vertical-align: top;\n",
       "    }\n",
       "\n",
       "    .dataframe thead th {\n",
       "        text-align: right;\n",
       "    }\n",
       "</style>\n",
       "<table border=\"1\" class=\"dataframe\">\n",
       "  <thead>\n",
       "    <tr style=\"text-align: right;\">\n",
       "      <th></th>\n",
       "      <th>question</th>\n",
       "      <th>answer</th>\n",
       "    </tr>\n",
       "  </thead>\n",
       "  <tbody>\n",
       "    <tr>\n",
       "      <th>0</th>\n",
       "      <td>블랙-숄즈(Black-Scholes) 모델을 사용하여 감마(Gamma)를 계산할 때...</td>\n",
       "      <td>3</td>\n",
       "    </tr>\n",
       "    <tr>\n",
       "      <th>1</th>\n",
       "      <td>다음 수식으로 정의된 파생상품의 지급금 가격을 계산하고, 이 가격이 주어진 유럽형 ...</td>\n",
       "      <td>0</td>\n",
       "    </tr>\n",
       "    <tr>\n",
       "      <th>2</th>\n",
       "      <td>스팟 가격과 옵션 내재 변동성 간의 상관관계인 $\\rho$의 중요성에 대해 설명할 ...</td>\n",
       "      <td>5</td>\n",
       "    </tr>\n",
       "    <tr>\n",
       "      <th>3</th>\n",
       "      <td>GARCH(1,1) 모델을 사용할 때, 어떤 이유로 해당 모델을 선택하는 것이 잘못...</td>\n",
       "      <td>1</td>\n",
       "    </tr>\n",
       "    <tr>\n",
       "      <th>4</th>\n",
       "      <td>금융 시장에서 월요일 효과와 1월 효과가 나타나는 원인에 대해 다음 중 어느 것이 ...</td>\n",
       "      <td>3</td>\n",
       "    </tr>\n",
       "    <tr>\n",
       "      <th>5</th>\n",
       "      <td>현재 전 세계적으로 내재 변동성이 거의 평탄한 지수나 주식이 존재하는지에 대한 예시...</td>\n",
       "      <td>1</td>\n",
       "    </tr>\n",
       "    <tr>\n",
       "      <th>6</th>\n",
       "      <td>유럽식 금융 옵션에 대한 질문입니다. 현재 ITM 상태의 콜옵션에 대해 만기가 30...</td>\n",
       "      <td>4</td>\n",
       "    </tr>\n",
       "    <tr>\n",
       "      <th>7</th>\n",
       "      <td>율리우스는 최근 변동금리 채권의 가격 책정 요소에 대해 연구하고 있는데, 그는 리보...</td>\n",
       "      <td>3</td>\n",
       "    </tr>\n",
       "    <tr>\n",
       "      <th>8</th>\n",
       "      <td>EBIT을 계산할 때 이자 수익이 포함되어야 하는지 여부에 대한 올바른 이해를 위해...</td>\n",
       "      <td>1</td>\n",
       "    </tr>\n",
       "    <tr>\n",
       "      <th>9</th>\n",
       "      <td>편리성 수익이 있는 자산의 경제적 가치를 평가할 때 가장 적절한 접근 방식은 무엇인...</td>\n",
       "      <td>2</td>\n",
       "    </tr>\n",
       "  </tbody>\n",
       "</table>\n",
       "</div>"
      ],
      "text/plain": [
       "                                            question answer\n",
       "0  블랙-숄즈(Black-Scholes) 모델을 사용하여 감마(Gamma)를 계산할 때...      3\n",
       "1  다음 수식으로 정의된 파생상품의 지급금 가격을 계산하고, 이 가격이 주어진 유럽형 ...      0\n",
       "2  스팟 가격과 옵션 내재 변동성 간의 상관관계인 $\\rho$의 중요성에 대해 설명할 ...      5\n",
       "3  GARCH(1,1) 모델을 사용할 때, 어떤 이유로 해당 모델을 선택하는 것이 잘못...      1\n",
       "4  금융 시장에서 월요일 효과와 1월 효과가 나타나는 원인에 대해 다음 중 어느 것이 ...      3\n",
       "5  현재 전 세계적으로 내재 변동성이 거의 평탄한 지수나 주식이 존재하는지에 대한 예시...      1\n",
       "6  유럽식 금융 옵션에 대한 질문입니다. 현재 ITM 상태의 콜옵션에 대해 만기가 30...      4\n",
       "7  율리우스는 최근 변동금리 채권의 가격 책정 요소에 대해 연구하고 있는데, 그는 리보...      3\n",
       "8  EBIT을 계산할 때 이자 수익이 포함되어야 하는지 여부에 대한 올바른 이해를 위해...      1\n",
       "9  편리성 수익이 있는 자산의 경제적 가치를 평가할 때 가장 적절한 접근 방식은 무엇인...      2"
      ]
     },
     "execution_count": 129,
     "metadata": {},
     "output_type": "execute_result"
    }
   ],
   "source": [
    "df.head(10)"
   ]
  },
  {
   "cell_type": "code",
   "execution_count": 130,
   "metadata": {},
   "outputs": [],
   "source": [
    "import openai\n",
    "from dotenv import load_dotenv\n",
    "import os\n",
    "\n",
    "dotenv_path = os.path.join(os.getcwd(), 'KRX', '.env')\n",
    "load_dotenv(dotenv_path)\n",
    "\n",
    "openai_key = os.getenv('OPENAI_TEAM_API_KEY')\n",
    "client = openai.OpenAI(api_key=openai_key)"
   ]
  },
  {
   "cell_type": "markdown",
   "metadata": {},
   "source": [
    "# 중복 정답 유무 체크"
   ]
  },
  {
   "cell_type": "code",
   "execution_count": 131,
   "metadata": {},
   "outputs": [],
   "source": [
    "system_prompt =\"\"\"\n",
    "You are a financial expert.\n",
    "Read the following questions and choose the answer.\n",
    "It could be multiple correct answers.\n",
    "Just write a number or numbers.\n",
    "\"\"\"\n",
    "\n",
    "user_prompt=\"\"\"\n",
    "Question : {}\n",
    "\"\"\""
   ]
  },
  {
   "cell_type": "code",
   "execution_count": 132,
   "metadata": {},
   "outputs": [
    {
     "name": "stderr",
     "output_type": "stream",
     "text": [
      "  0%|          | 0/98 [00:00<?, ?it/s]"
     ]
    },
    {
     "name": "stderr",
     "output_type": "stream",
     "text": [
      "100%|██████████| 98/98 [01:13<00:00,  1.33it/s]\n"
     ]
    }
   ],
   "source": [
    "from tqdm import tqdm\n",
    "\n",
    "gpt_answer = []\n",
    "for _, row_item in tqdm(df.iterrows(), total=len(df)):\n",
    "    answer = int(row_item['answer'])\n",
    "    question = str(row_item['question'])\n",
    "\n",
    "    system_msg = {'role': 'system', 'content':system_prompt}\n",
    "    user_msg = {'role':'user', 'content':user_prompt.format(question)}\n",
    "\n",
    "    response = client.chat.completions.create(\n",
    "        model = 'gpt-4o-mini',\n",
    "        messages = [system_msg, user_msg]\n",
    "    )\n",
    "\n",
    "    response_text = response.choices[0].message.content\n",
    "\n",
    "    gpt_4o_answer = []\n",
    "    for i in range(6):\n",
    "        if str(i) in response_text:\n",
    "            gpt_4o_answer.append(i)\n",
    "\n",
    "    gpt_answer.append(gpt_4o_answer)"
   ]
  },
  {
   "cell_type": "markdown",
   "metadata": {},
   "source": [
    "# 중복 정답 선택지 바꾸기"
   ]
  },
  {
   "cell_type": "code",
   "execution_count": 133,
   "metadata": {},
   "outputs": [],
   "source": [
    "fixed_system_prompt = \"\"\"\n",
    "Your role is to correct the options for financial matters. You will be given the problem and the option number that you will need to rewrite. Please correct the given option number's sentence for your question by meeting the following conditions.\n",
    "1. The selection must not deviate from the subject of the problem.\n",
    "2. It should undoubtedly be corrected with a perfect incorrect answer.\n",
    "3. It must not be modified in the same sense as other fingerprints.\n",
    "4. The length selected must be similar to the length of other options.\n",
    "You must only write correct options which satisfy above conditions.\n",
    "\"\"\"\n",
    "\n",
    "fixed_user_prompt=\"\"\"\n",
    "Question: {}\n",
    "fixed_numbers : {}\n",
    "\"\"\""
   ]
  },
  {
   "cell_type": "code",
   "execution_count": 134,
   "metadata": {},
   "outputs": [
    {
     "data": {
      "text/html": [
       "<div>\n",
       "<style scoped>\n",
       "    .dataframe tbody tr th:only-of-type {\n",
       "        vertical-align: middle;\n",
       "    }\n",
       "\n",
       "    .dataframe tbody tr th {\n",
       "        vertical-align: top;\n",
       "    }\n",
       "\n",
       "    .dataframe thead th {\n",
       "        text-align: right;\n",
       "    }\n",
       "</style>\n",
       "<table border=\"1\" class=\"dataframe\">\n",
       "  <thead>\n",
       "    <tr style=\"text-align: right;\">\n",
       "      <th></th>\n",
       "      <th>question</th>\n",
       "      <th>answer</th>\n",
       "      <th>gpt_answer</th>\n",
       "    </tr>\n",
       "  </thead>\n",
       "  <tbody>\n",
       "    <tr>\n",
       "      <th>0</th>\n",
       "      <td>블랙-숄즈(Black-Scholes) 모델을 사용하여 감마(Gamma)를 계산할 때...</td>\n",
       "      <td>3</td>\n",
       "      <td>[3, 5]</td>\n",
       "    </tr>\n",
       "    <tr>\n",
       "      <th>1</th>\n",
       "      <td>다음 수식으로 정의된 파생상품의 지급금 가격을 계산하고, 이 가격이 주어진 유럽형 ...</td>\n",
       "      <td>0</td>\n",
       "      <td>[1, 2, 4]</td>\n",
       "    </tr>\n",
       "    <tr>\n",
       "      <th>2</th>\n",
       "      <td>스팟 가격과 옵션 내재 변동성 간의 상관관계인 $\\rho$의 중요성에 대해 설명할 ...</td>\n",
       "      <td>5</td>\n",
       "      <td>[1, 2, 5]</td>\n",
       "    </tr>\n",
       "    <tr>\n",
       "      <th>3</th>\n",
       "      <td>GARCH(1,1) 모델을 사용할 때, 어떤 이유로 해당 모델을 선택하는 것이 잘못...</td>\n",
       "      <td>1</td>\n",
       "      <td>[4, 5]</td>\n",
       "    </tr>\n",
       "    <tr>\n",
       "      <th>4</th>\n",
       "      <td>금융 시장에서 월요일 효과와 1월 효과가 나타나는 원인에 대해 다음 중 어느 것이 ...</td>\n",
       "      <td>3</td>\n",
       "      <td>[3]</td>\n",
       "    </tr>\n",
       "    <tr>\n",
       "      <th>...</th>\n",
       "      <td>...</td>\n",
       "      <td>...</td>\n",
       "      <td>...</td>\n",
       "    </tr>\n",
       "    <tr>\n",
       "      <th>93</th>\n",
       "      <td>다음 중 가격 커널을 정의할 때 이토의 레마를 적용하는 과정에 대해 가장 적절하지 ...</td>\n",
       "      <td>5</td>\n",
       "      <td>[5]</td>\n",
       "    </tr>\n",
       "    <tr>\n",
       "      <th>94</th>\n",
       "      <td>과거 옵션 데이터의 접근성을 고려할 때, 다음 중 어떤 데이터 제공업체가 가장 적합...</td>\n",
       "      <td>5</td>\n",
       "      <td>[4, 5]</td>\n",
       "    </tr>\n",
       "    <tr>\n",
       "      <th>95</th>\n",
       "      <td>코인타그레이션의 개념과 관련하여, 다음의 선택지 중 어떤 것이 코인타그레이션 벡터의...</td>\n",
       "      <td>1</td>\n",
       "      <td>[1, 2, 3, 4, 5]</td>\n",
       "    </tr>\n",
       "    <tr>\n",
       "      <th>96</th>\n",
       "      <td>중국의 고속철도 투자와 한국의 교육 및 인프라에 대한 정부의 전략적 투자가 경제 성...</td>\n",
       "      <td>3</td>\n",
       "      <td>[1, 3, 4]</td>\n",
       "    </tr>\n",
       "    <tr>\n",
       "      <th>97</th>\n",
       "      <td>두 자산 $(B,S)$를 포함하는 시장에서 주어진 조건부 청구권 가격을 $\\xi_t...</td>\n",
       "      <td>0</td>\n",
       "      <td>[1, 3, 5]</td>\n",
       "    </tr>\n",
       "  </tbody>\n",
       "</table>\n",
       "<p>98 rows × 3 columns</p>\n",
       "</div>"
      ],
      "text/plain": [
       "                                             question answer       gpt_answer\n",
       "0   블랙-숄즈(Black-Scholes) 모델을 사용하여 감마(Gamma)를 계산할 때...      3           [3, 5]\n",
       "1   다음 수식으로 정의된 파생상품의 지급금 가격을 계산하고, 이 가격이 주어진 유럽형 ...      0        [1, 2, 4]\n",
       "2   스팟 가격과 옵션 내재 변동성 간의 상관관계인 $\\rho$의 중요성에 대해 설명할 ...      5        [1, 2, 5]\n",
       "3   GARCH(1,1) 모델을 사용할 때, 어떤 이유로 해당 모델을 선택하는 것이 잘못...      1           [4, 5]\n",
       "4   금융 시장에서 월요일 효과와 1월 효과가 나타나는 원인에 대해 다음 중 어느 것이 ...      3              [3]\n",
       "..                                                ...    ...              ...\n",
       "93  다음 중 가격 커널을 정의할 때 이토의 레마를 적용하는 과정에 대해 가장 적절하지 ...      5              [5]\n",
       "94  과거 옵션 데이터의 접근성을 고려할 때, 다음 중 어떤 데이터 제공업체가 가장 적합...      5           [4, 5]\n",
       "95  코인타그레이션의 개념과 관련하여, 다음의 선택지 중 어떤 것이 코인타그레이션 벡터의...      1  [1, 2, 3, 4, 5]\n",
       "96  중국의 고속철도 투자와 한국의 교육 및 인프라에 대한 정부의 전략적 투자가 경제 성...      3        [1, 3, 4]\n",
       "97  두 자산 $(B,S)$를 포함하는 시장에서 주어진 조건부 청구권 가격을 $\\xi_t...      0        [1, 3, 5]\n",
       "\n",
       "[98 rows x 3 columns]"
      ]
     },
     "execution_count": 134,
     "metadata": {},
     "output_type": "execute_result"
    }
   ],
   "source": [
    "fixed_results = []\n",
    "df['gpt_answer'] = gpt_answer\n",
    "df"
   ]
  },
  {
   "cell_type": "code",
   "execution_count": 135,
   "metadata": {},
   "outputs": [
    {
     "name": "stderr",
     "output_type": "stream",
     "text": [
      "  0%|          | 0/98 [00:00<?, ?it/s]"
     ]
    },
    {
     "name": "stderr",
     "output_type": "stream",
     "text": [
      "100%|██████████| 98/98 [02:20<00:00,  1.43s/it]\n"
     ]
    }
   ],
   "source": [
    "for idx, row_item in tqdm(df.iterrows(), total=len(df)):\n",
    "    question = row_item['question']\n",
    "    answer = row_item['answer']\n",
    "    gpt_answer = row_item['gpt_answer']\n",
    "    fixed_question = ''\n",
    "\n",
    "    need_to_fix_numbers = [num for num in gpt_answer if num != answer]\n",
    "    if len(need_to_fix_numbers) >= 1:\n",
    "        fixed_numbers_str = ', '.join(map(str, need_to_fix_numbers))\n",
    "        fixed_system_msg = {'role':'system', 'content': fixed_system_prompt}\n",
    "        fixed_user_msg={'role':'user', 'content': fixed_user_prompt.format(question, fixed_numbers_str)}\n",
    "\n",
    "        response = client.chat.completions.create(\n",
    "            model='gpt-4o-mini',\n",
    "            messages = [fixed_system_msg, fixed_user_msg]\n",
    "        )\n",
    "\n",
    "        result = response.choices[0].message.content\n",
    "        question_lines = question.split('\\n')\n",
    "        for fixed_choice in result.split('\\n'):\n",
    "            fixed_choice_text = fixed_choice.strip()\n",
    "                \n",
    "            for i in range(1, len(question_lines)):\n",
    "                if fixed_choice_text.startswith(str(i)):\n",
    "                    question_lines[i] = fixed_choice_text\n",
    "\n",
    "        fixed_question = '\\n'.join(question_lines)\n",
    "\n",
    "    if fixed_question:\n",
    "        new_item = {'question':fixed_question, 'answer':answer}\n",
    "    else:\n",
    "        new_item = {'question':question, 'answer':answer}\n",
    "\n",
    "    fixed_results.append(new_item)\n",
    "            \n"
   ]
  },
  {
   "cell_type": "markdown",
   "metadata": {},
   "source": [
    "# 데이터 전처리&저장"
   ]
  },
  {
   "cell_type": "code",
   "execution_count": 136,
   "metadata": {},
   "outputs": [
    {
     "data": {
      "text/html": [
       "<div>\n",
       "<style scoped>\n",
       "    .dataframe tbody tr th:only-of-type {\n",
       "        vertical-align: middle;\n",
       "    }\n",
       "\n",
       "    .dataframe tbody tr th {\n",
       "        vertical-align: top;\n",
       "    }\n",
       "\n",
       "    .dataframe thead th {\n",
       "        text-align: right;\n",
       "    }\n",
       "</style>\n",
       "<table border=\"1\" class=\"dataframe\">\n",
       "  <thead>\n",
       "    <tr style=\"text-align: right;\">\n",
       "      <th></th>\n",
       "      <th>question</th>\n",
       "      <th>answer</th>\n",
       "    </tr>\n",
       "  </thead>\n",
       "  <tbody>\n",
       "    <tr>\n",
       "      <th>0</th>\n",
       "      <td>블랙-숄즈(Black-Scholes) 모델을 사용하여 감마(Gamma)를 계산할 때...</td>\n",
       "      <td>3</td>\n",
       "    </tr>\n",
       "    <tr>\n",
       "      <th>1</th>\n",
       "      <td>다음 수식으로 정의된 파생상품의 지급금 가격을 계산하고, 이 가격이 주어진 유럽형 ...</td>\n",
       "      <td>0</td>\n",
       "    </tr>\n",
       "    <tr>\n",
       "      <th>2</th>\n",
       "      <td>스팟 가격과 옵션 내재 변동성 간의 상관관계인 $\\rho$의 중요성에 대해 설명할 ...</td>\n",
       "      <td>5</td>\n",
       "    </tr>\n",
       "    <tr>\n",
       "      <th>3</th>\n",
       "      <td>GARCH(1,1) 모델을 사용할 때, 어떤 이유로 해당 모델을 선택하는 것이 잘못...</td>\n",
       "      <td>1</td>\n",
       "    </tr>\n",
       "    <tr>\n",
       "      <th>4</th>\n",
       "      <td>금융 시장에서 월요일 효과와 1월 효과가 나타나는 원인에 대해 다음 중 어느 것이 ...</td>\n",
       "      <td>3</td>\n",
       "    </tr>\n",
       "    <tr>\n",
       "      <th>...</th>\n",
       "      <td>...</td>\n",
       "      <td>...</td>\n",
       "    </tr>\n",
       "    <tr>\n",
       "      <th>93</th>\n",
       "      <td>다음 중 가격 커널을 정의할 때 이토의 레마를 적용하는 과정에 대해 가장 적절하지 ...</td>\n",
       "      <td>5</td>\n",
       "    </tr>\n",
       "    <tr>\n",
       "      <th>94</th>\n",
       "      <td>과거 옵션 데이터의 접근성을 고려할 때, 다음 중 어떤 데이터 제공업체가 가장 적합...</td>\n",
       "      <td>5</td>\n",
       "    </tr>\n",
       "    <tr>\n",
       "      <th>95</th>\n",
       "      <td>코인타그레이션의 개념과 관련하여, 다음의 선택지 중 어떤 것이 코인타그레이션 벡터의...</td>\n",
       "      <td>1</td>\n",
       "    </tr>\n",
       "    <tr>\n",
       "      <th>96</th>\n",
       "      <td>중국의 고속철도 투자와 한국의 교육 및 인프라에 대한 정부의 전략적 투자가 경제 성...</td>\n",
       "      <td>3</td>\n",
       "    </tr>\n",
       "    <tr>\n",
       "      <th>97</th>\n",
       "      <td>두 자산 $(B,S)$를 포함하는 시장에서 주어진 조건부 청구권 가격을 $\\xi_t...</td>\n",
       "      <td>0</td>\n",
       "    </tr>\n",
       "  </tbody>\n",
       "</table>\n",
       "<p>98 rows × 2 columns</p>\n",
       "</div>"
      ],
      "text/plain": [
       "                                             question answer\n",
       "0   블랙-숄즈(Black-Scholes) 모델을 사용하여 감마(Gamma)를 계산할 때...      3\n",
       "1   다음 수식으로 정의된 파생상품의 지급금 가격을 계산하고, 이 가격이 주어진 유럽형 ...      0\n",
       "2   스팟 가격과 옵션 내재 변동성 간의 상관관계인 $\\rho$의 중요성에 대해 설명할 ...      5\n",
       "3   GARCH(1,1) 모델을 사용할 때, 어떤 이유로 해당 모델을 선택하는 것이 잘못...      1\n",
       "4   금융 시장에서 월요일 효과와 1월 효과가 나타나는 원인에 대해 다음 중 어느 것이 ...      3\n",
       "..                                                ...    ...\n",
       "93  다음 중 가격 커널을 정의할 때 이토의 레마를 적용하는 과정에 대해 가장 적절하지 ...      5\n",
       "94  과거 옵션 데이터의 접근성을 고려할 때, 다음 중 어떤 데이터 제공업체가 가장 적합...      5\n",
       "95  코인타그레이션의 개념과 관련하여, 다음의 선택지 중 어떤 것이 코인타그레이션 벡터의...      1\n",
       "96  중국의 고속철도 투자와 한국의 교육 및 인프라에 대한 정부의 전략적 투자가 경제 성...      3\n",
       "97  두 자산 $(B,S)$를 포함하는 시장에서 주어진 조건부 청구권 가격을 $\\xi_t...      0\n",
       "\n",
       "[98 rows x 2 columns]"
      ]
     },
     "execution_count": 136,
     "metadata": {},
     "output_type": "execute_result"
    }
   ],
   "source": [
    "fixed_df = pd.DataFrame(fixed_results)\n",
    "fixed_df\n",
    "\n"
   ]
  },
  {
   "cell_type": "code",
   "execution_count": 137,
   "metadata": {},
   "outputs": [],
   "source": [
    "import re\n",
    "\n",
    "def preprocess_questions(question):\n",
    "    question_lines = question.split('\\n')\n",
    "\n",
    "    number_to_eng = {\n",
    "        '1. ': 'A. ',\n",
    "        '2. ': 'B. ',\n",
    "        '3. ': 'C. ',\n",
    "        '4. ': 'D. ',\n",
    "        '5. ': 'E. ',\n",
    "    }\n",
    "\n",
    "    new_question_lines = []\n",
    "    for idx, line in enumerate(question_lines):\n",
    "        new_line = ''\n",
    "        for i in range(6):\n",
    "            choice_string = f\"{str(i)}. \"\n",
    "            if line.startswith(choice_string):\n",
    "                new_line = re.sub(choice_string, number_to_eng[choice_string], line)\n",
    "                break\n",
    "        if new_line:\n",
    "            new_question_lines.append(new_line)\n",
    "        else:\n",
    "            new_question_lines.append(line)\n",
    "    \n",
    "    question_text = \"### 질문: \" + new_question_lines[0]\n",
    "    choice_text = \"### 선택지:\\n\" + '\\n'.join(new_question_lines[1:])\n",
    "    result = question_text + \"\\n\" + choice_text\n",
    "\n",
    "    return result\n",
    "\n",
    "def preprocess_answer(answer):\n",
    "    answer = int(answer)\n",
    "    \n",
    "    number_to_eng = {\n",
    "        1: 'A',\n",
    "        2: 'B',\n",
    "        3: 'C',\n",
    "        4: 'D',\n",
    "        5: 'E',\n",
    "    }\n",
    "\n",
    "    if 0 < answer < 6:\n",
    "        result = number_to_eng[answer] \n",
    "    else:\n",
    "        result = 0\n",
    "    return result"
   ]
  },
  {
   "cell_type": "code",
   "execution_count": 138,
   "metadata": {},
   "outputs": [],
   "source": [
    "fixed_df['question'] = fixed_df['question'].apply(preprocess_questions)\n",
    "fixed_df['answer'] = fixed_df['answer'].apply(preprocess_answer)"
   ]
  },
  {
   "cell_type": "code",
   "execution_count": 139,
   "metadata": {},
   "outputs": [
    {
     "name": "stdout",
     "output_type": "stream",
     "text": [
      "98\n",
      "91\n"
     ]
    }
   ],
   "source": [
    "def is_numeric(val):\n",
    "    if val == 0:\n",
    "        return False\n",
    "    else:\n",
    "        return True \n",
    "\n",
    "print(len(fixed_df))\n",
    "fixed_df = fixed_df[fixed_df['answer'].apply(is_numeric)]\n",
    "fixed_df = fixed_df.reset_index(drop=True)\n",
    "print(len(fixed_df))"
   ]
  },
  {
   "cell_type": "code",
   "execution_count": 140,
   "metadata": {},
   "outputs": [],
   "source": [
    "fixed_df.to_csv('/root/KRX_LLM/data/fixed_krx_sample_mcqa_data4.csv', index=False)"
   ]
  },
  {
   "cell_type": "code",
   "execution_count": null,
   "metadata": {},
   "outputs": [],
   "source": []
  }
 ],
 "metadata": {
  "kernelspec": {
   "display_name": "krx",
   "language": "python",
   "name": "python3"
  },
  "language_info": {
   "codemirror_mode": {
    "name": "ipython",
    "version": 3
   },
   "file_extension": ".py",
   "mimetype": "text/x-python",
   "name": "python",
   "nbconvert_exporter": "python",
   "pygments_lexer": "ipython3",
   "version": "3.10.13"
  }
 },
 "nbformat": 4,
 "nbformat_minor": 2
}
